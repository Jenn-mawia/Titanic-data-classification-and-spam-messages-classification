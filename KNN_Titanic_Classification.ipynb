{
  "nbformat": 4,
  "nbformat_minor": 0,
  "metadata": {
    "colab": {
      "name": "KNN_Titanic_Classification.ipynb",
      "provenance": [],
      "toc_visible": true,
      "authorship_tag": "ABX9TyNKJOLaYEiXGa/0vKgNHRA0",
      "include_colab_link": true
    },
    "kernelspec": {
      "name": "python3",
      "display_name": "Python 3"
    }
  },
  "cells": [
    {
      "cell_type": "markdown",
      "metadata": {
        "id": "view-in-github",
        "colab_type": "text"
      },
      "source": [
        "<a href=\"https://colab.research.google.com/github/Jenn-mawia/Titanic-data-classification-and-spam-messages-classification/blob/main/KNN_Titanic_Classification.ipynb\" target=\"_parent\"><img src=\"https://colab.research.google.com/assets/colab-badge.svg\" alt=\"Open In Colab\"/></a>"
      ]
    },
    {
      "cell_type": "markdown",
      "metadata": {
        "id": "Lep4uq8Gv-o5"
      },
      "source": [
        "# **Classification of Passengers' Survival Using the Titanic Data**"
      ]
    },
    {
      "cell_type": "markdown",
      "metadata": {
        "id": "AHQ6iFKfwVvL"
      },
      "source": [
        "# Defining the question"
      ]
    },
    {
      "cell_type": "markdown",
      "metadata": {
        "id": "nYohXbdEyDnv"
      },
      "source": [
        ">**Use machine learning to create a model that predicts which passengers survived the Titanic shipwreck**"
      ]
    },
    {
      "cell_type": "markdown",
      "metadata": {
        "id": "NipLmAhbwcmP"
      },
      "source": [
        "\n",
        "# Specifying the question"
      ]
    },
    {
      "cell_type": "markdown",
      "metadata": {
        "id": "Ekrc1WXVwdI0"
      },
      "source": [
        "- Build a model that makes the above prediction **using K-Nearest Neighbors Classifier**\n",
        "- Optimize the model, making sure to document how you've set up your hyperparameters. This includes feature selection, splitting the data into subsets to use in modeling. \n"
      ]
    },
    {
      "cell_type": "markdown",
      "metadata": {
        "id": "12ZZGizRwdjX"
      },
      "source": [
        "# Defining the metrics for success"
      ]
    },
    {
      "cell_type": "markdown",
      "metadata": {
        "id": "nsKcb5F-zKK4"
      },
      "source": [
        ">This project will be considered a success if:\n",
        "- a KNN model is built to predict the survival rate of passengers that were on board on the Titanic ship.\n",
        "- the model is optimized to its best performance and fits the criteria of few misclassification errors while overcoming overfitting and underfitting problems.\n",
        "\n",
        "\n"
      ]
    },
    {
      "cell_type": "markdown",
      "metadata": {
        "id": "OBL3E0NeweHN"
      },
      "source": [
        "# Understanding the context"
      ]
    },
    {
      "cell_type": "markdown",
      "metadata": {
        "id": "rgbTfgMsz0kc"
      },
      "source": [
        ">On April 15, 1912, the Belfast built RMS Titanic sank after colliding with an iceberg, killing over 1,500 passengers and crew on board out of the estimated 2227 people on board. Although Titanic had advanced safety features, such as watertight compartments and remotely activated watertight doors, it only carried enough lifeboats for 1,178 people—about half the number on board. \n",
        "\n",
        "While there was some element of luck involved in surviving, it seems some groups of people were more likely to survive than others. For instance, A disproportionate number of men were left aboard because of a \"*women and children first*\" protocol for loading lifeboats. The first-class accommodation was designed to be the pinnacle of comfort and luxury, with a gymnasium, swimming pool, libraries, high-class restaurants, and opulent cabins. \n",
        "\n",
        "It is for this reason that this project seeks to find “what sorts of people were more likely to survive?” using passenger data (i.e. in terms of age, gender, socio-economic class, etc)"
      ]
    },
    {
      "cell_type": "markdown",
      "metadata": {
        "id": "M9eDavgiwsid"
      },
      "source": [
        "# Experimental Design"
      ]
    },
    {
      "cell_type": "markdown",
      "metadata": {
        "id": "GVQfkGnBKQuX"
      },
      "source": [
        "The following is the order in which I went about this project:\n",
        "\n",
        "- Data sourcing & understanding\n",
        "- Checking the data (shape, number of records, datatypes)\n",
        "- Data cleaning procedures (handling null values,outliers, anomalies)\n",
        "- Exploratory data analysis (Univariate, Bivariate, Multivariate analyses)\n",
        "- Implementing the solution\n",
        "  - KNN Classification\n",
        "    - Model Optimization and Improvement\n",
        "    - Remodeling using tuned parameters\n",
        "- Challenging the solution\n",
        "-Follow up questions"
      ]
    },
    {
      "cell_type": "markdown",
      "metadata": {
        "id": "Rm_rzTCPKgJH"
      },
      "source": [
        "# **Importing Libraries**"
      ]
    },
    {
      "cell_type": "code",
      "metadata": {
        "id": "vpu7xfXsvqZf"
      },
      "source": [
        "# data manipulation/processing\n",
        "import pandas as pd\n",
        "# linear algebra\n",
        "import numpy as np\n",
        "\n",
        "# visualization\n",
        "import matplotlib.pyplot as plt\n",
        "import seaborn as sns\n",
        "\n",
        "# preprocessing/scaling\n",
        "from sklearn.preprocessing import StandardScaler\n",
        "\n",
        "# modeling\n",
        "from sklearn.model_selection import train_test_split\n",
        "\n",
        "# model performance metrics \n",
        "from sklearn import metrics\n",
        "\n",
        "import warnings\n",
        "warnings.filterwarnings('ignore')"
      ],
      "execution_count": null,
      "outputs": []
    },
    {
      "cell_type": "markdown",
      "metadata": {
        "id": "Rbqfz5-SLwhu"
      },
      "source": [
        "# Reading the data"
      ]
    },
    {
      "cell_type": "markdown",
      "metadata": {
        "id": "lu74T513MTro"
      },
      "source": [
        ">There are two datasets for this project. One named train and the other test. The train dataset will be used to build the model while the train dataset will be used to test how the model performs on unseen data. "
      ]
    },
    {
      "cell_type": "code",
      "metadata": {
        "id": "tbP3jWZzLon6"
      },
      "source": [
        "# reading the train data \n",
        "train_data = pd.read_csv(\"train (5).csv\")\n",
        "\n",
        "# reading the test data\n",
        "test_data = pd.read_csv(\"test (1).csv\")"
      ],
      "execution_count": null,
      "outputs": []
    },
    {
      "cell_type": "markdown",
      "metadata": {
        "id": "QjeTmCgPM6nn"
      },
      "source": [
        "# Checking the data"
      ]
    },
    {
      "cell_type": "code",
      "metadata": {
        "id": "LjC5i4XaLpv9",
        "outputId": "1ccc805b-b2d4-4102-b586-4d14ad1ebf46",
        "colab": {
          "base_uri": "https://localhost:8080/",
          "height": 51
        }
      },
      "source": [
        "# number of rows and columns in the data\n",
        "print(\"Train data: \", train_data.shape)\n",
        "\n",
        "print(\"Test data: \", test_data.shape)"
      ],
      "execution_count": null,
      "outputs": [
        {
          "output_type": "stream",
          "text": [
            "Train data:  (891, 12)\n",
            "Test data:  (418, 11)\n"
          ],
          "name": "stdout"
        }
      ]
    },
    {
      "cell_type": "code",
      "metadata": {
        "id": "-BptMKy5NcZM",
        "outputId": "bc0fc2df-92b1-4741-9b96-2ffc47a4d311",
        "colab": {
          "base_uri": "https://localhost:8080/",
          "height": 255
        }
      },
      "source": [
        "# check the top of the dataset\n",
        "train_data.head()"
      ],
      "execution_count": null,
      "outputs": [
        {
          "output_type": "execute_result",
          "data": {
            "text/html": [
              "<div>\n",
              "<style scoped>\n",
              "    .dataframe tbody tr th:only-of-type {\n",
              "        vertical-align: middle;\n",
              "    }\n",
              "\n",
              "    .dataframe tbody tr th {\n",
              "        vertical-align: top;\n",
              "    }\n",
              "\n",
              "    .dataframe thead th {\n",
              "        text-align: right;\n",
              "    }\n",
              "</style>\n",
              "<table border=\"1\" class=\"dataframe\">\n",
              "  <thead>\n",
              "    <tr style=\"text-align: right;\">\n",
              "      <th></th>\n",
              "      <th>PassengerId</th>\n",
              "      <th>Survived</th>\n",
              "      <th>Pclass</th>\n",
              "      <th>Name</th>\n",
              "      <th>Sex</th>\n",
              "      <th>Age</th>\n",
              "      <th>SibSp</th>\n",
              "      <th>Parch</th>\n",
              "      <th>Ticket</th>\n",
              "      <th>Fare</th>\n",
              "      <th>Cabin</th>\n",
              "      <th>Embarked</th>\n",
              "    </tr>\n",
              "  </thead>\n",
              "  <tbody>\n",
              "    <tr>\n",
              "      <th>0</th>\n",
              "      <td>1</td>\n",
              "      <td>0</td>\n",
              "      <td>3</td>\n",
              "      <td>Braund, Mr. Owen Harris</td>\n",
              "      <td>male</td>\n",
              "      <td>22.0</td>\n",
              "      <td>1</td>\n",
              "      <td>0</td>\n",
              "      <td>A/5 21171</td>\n",
              "      <td>7.2500</td>\n",
              "      <td>NaN</td>\n",
              "      <td>S</td>\n",
              "    </tr>\n",
              "    <tr>\n",
              "      <th>1</th>\n",
              "      <td>2</td>\n",
              "      <td>1</td>\n",
              "      <td>1</td>\n",
              "      <td>Cumings, Mrs. John Bradley (Florence Briggs Th...</td>\n",
              "      <td>female</td>\n",
              "      <td>38.0</td>\n",
              "      <td>1</td>\n",
              "      <td>0</td>\n",
              "      <td>PC 17599</td>\n",
              "      <td>71.2833</td>\n",
              "      <td>C85</td>\n",
              "      <td>C</td>\n",
              "    </tr>\n",
              "    <tr>\n",
              "      <th>2</th>\n",
              "      <td>3</td>\n",
              "      <td>1</td>\n",
              "      <td>3</td>\n",
              "      <td>Heikkinen, Miss. Laina</td>\n",
              "      <td>female</td>\n",
              "      <td>26.0</td>\n",
              "      <td>0</td>\n",
              "      <td>0</td>\n",
              "      <td>STON/O2. 3101282</td>\n",
              "      <td>7.9250</td>\n",
              "      <td>NaN</td>\n",
              "      <td>S</td>\n",
              "    </tr>\n",
              "    <tr>\n",
              "      <th>3</th>\n",
              "      <td>4</td>\n",
              "      <td>1</td>\n",
              "      <td>1</td>\n",
              "      <td>Futrelle, Mrs. Jacques Heath (Lily May Peel)</td>\n",
              "      <td>female</td>\n",
              "      <td>35.0</td>\n",
              "      <td>1</td>\n",
              "      <td>0</td>\n",
              "      <td>113803</td>\n",
              "      <td>53.1000</td>\n",
              "      <td>C123</td>\n",
              "      <td>S</td>\n",
              "    </tr>\n",
              "    <tr>\n",
              "      <th>4</th>\n",
              "      <td>5</td>\n",
              "      <td>0</td>\n",
              "      <td>3</td>\n",
              "      <td>Allen, Mr. William Henry</td>\n",
              "      <td>male</td>\n",
              "      <td>35.0</td>\n",
              "      <td>0</td>\n",
              "      <td>0</td>\n",
              "      <td>373450</td>\n",
              "      <td>8.0500</td>\n",
              "      <td>NaN</td>\n",
              "      <td>S</td>\n",
              "    </tr>\n",
              "  </tbody>\n",
              "</table>\n",
              "</div>"
            ],
            "text/plain": [
              "   PassengerId  Survived  Pclass  ...     Fare Cabin  Embarked\n",
              "0            1         0       3  ...   7.2500   NaN         S\n",
              "1            2         1       1  ...  71.2833   C85         C\n",
              "2            3         1       3  ...   7.9250   NaN         S\n",
              "3            4         1       1  ...  53.1000  C123         S\n",
              "4            5         0       3  ...   8.0500   NaN         S\n",
              "\n",
              "[5 rows x 12 columns]"
            ]
          },
          "metadata": {
            "tags": []
          },
          "execution_count": 4
        }
      ]
    },
    {
      "cell_type": "code",
      "metadata": {
        "id": "dqKKK_u9NizE",
        "outputId": "590bbd7f-90cb-4385-bcd8-0caf3a2078f0",
        "colab": {
          "base_uri": "https://localhost:8080/",
          "height": 221
        }
      },
      "source": [
        "test_data.head()"
      ],
      "execution_count": null,
      "outputs": [
        {
          "output_type": "execute_result",
          "data": {
            "text/html": [
              "<div>\n",
              "<style scoped>\n",
              "    .dataframe tbody tr th:only-of-type {\n",
              "        vertical-align: middle;\n",
              "    }\n",
              "\n",
              "    .dataframe tbody tr th {\n",
              "        vertical-align: top;\n",
              "    }\n",
              "\n",
              "    .dataframe thead th {\n",
              "        text-align: right;\n",
              "    }\n",
              "</style>\n",
              "<table border=\"1\" class=\"dataframe\">\n",
              "  <thead>\n",
              "    <tr style=\"text-align: right;\">\n",
              "      <th></th>\n",
              "      <th>PassengerId</th>\n",
              "      <th>Pclass</th>\n",
              "      <th>Name</th>\n",
              "      <th>Sex</th>\n",
              "      <th>Age</th>\n",
              "      <th>SibSp</th>\n",
              "      <th>Parch</th>\n",
              "      <th>Ticket</th>\n",
              "      <th>Fare</th>\n",
              "      <th>Cabin</th>\n",
              "      <th>Embarked</th>\n",
              "    </tr>\n",
              "  </thead>\n",
              "  <tbody>\n",
              "    <tr>\n",
              "      <th>0</th>\n",
              "      <td>892</td>\n",
              "      <td>3</td>\n",
              "      <td>Kelly, Mr. James</td>\n",
              "      <td>male</td>\n",
              "      <td>34.5</td>\n",
              "      <td>0</td>\n",
              "      <td>0</td>\n",
              "      <td>330911</td>\n",
              "      <td>7.8292</td>\n",
              "      <td>NaN</td>\n",
              "      <td>Q</td>\n",
              "    </tr>\n",
              "    <tr>\n",
              "      <th>1</th>\n",
              "      <td>893</td>\n",
              "      <td>3</td>\n",
              "      <td>Wilkes, Mrs. James (Ellen Needs)</td>\n",
              "      <td>female</td>\n",
              "      <td>47.0</td>\n",
              "      <td>1</td>\n",
              "      <td>0</td>\n",
              "      <td>363272</td>\n",
              "      <td>7.0000</td>\n",
              "      <td>NaN</td>\n",
              "      <td>S</td>\n",
              "    </tr>\n",
              "    <tr>\n",
              "      <th>2</th>\n",
              "      <td>894</td>\n",
              "      <td>2</td>\n",
              "      <td>Myles, Mr. Thomas Francis</td>\n",
              "      <td>male</td>\n",
              "      <td>62.0</td>\n",
              "      <td>0</td>\n",
              "      <td>0</td>\n",
              "      <td>240276</td>\n",
              "      <td>9.6875</td>\n",
              "      <td>NaN</td>\n",
              "      <td>Q</td>\n",
              "    </tr>\n",
              "    <tr>\n",
              "      <th>3</th>\n",
              "      <td>895</td>\n",
              "      <td>3</td>\n",
              "      <td>Wirz, Mr. Albert</td>\n",
              "      <td>male</td>\n",
              "      <td>27.0</td>\n",
              "      <td>0</td>\n",
              "      <td>0</td>\n",
              "      <td>315154</td>\n",
              "      <td>8.6625</td>\n",
              "      <td>NaN</td>\n",
              "      <td>S</td>\n",
              "    </tr>\n",
              "    <tr>\n",
              "      <th>4</th>\n",
              "      <td>896</td>\n",
              "      <td>3</td>\n",
              "      <td>Hirvonen, Mrs. Alexander (Helga E Lindqvist)</td>\n",
              "      <td>female</td>\n",
              "      <td>22.0</td>\n",
              "      <td>1</td>\n",
              "      <td>1</td>\n",
              "      <td>3101298</td>\n",
              "      <td>12.2875</td>\n",
              "      <td>NaN</td>\n",
              "      <td>S</td>\n",
              "    </tr>\n",
              "  </tbody>\n",
              "</table>\n",
              "</div>"
            ],
            "text/plain": [
              "   PassengerId  Pclass  ... Cabin Embarked\n",
              "0          892       3  ...   NaN        Q\n",
              "1          893       3  ...   NaN        S\n",
              "2          894       2  ...   NaN        Q\n",
              "3          895       3  ...   NaN        S\n",
              "4          896       3  ...   NaN        S\n",
              "\n",
              "[5 rows x 11 columns]"
            ]
          },
          "metadata": {
            "tags": []
          },
          "execution_count": 5
        }
      ]
    },
    {
      "cell_type": "code",
      "metadata": {
        "id": "K2RarxWONlru",
        "outputId": "09587b86-c0ce-41d3-a2a1-b30667cf5e88",
        "colab": {
          "base_uri": "https://localhost:8080/",
          "height": 221
        }
      },
      "source": [
        "# check the bottom of the dataset\n",
        "train_data.tail()"
      ],
      "execution_count": null,
      "outputs": [
        {
          "output_type": "execute_result",
          "data": {
            "text/html": [
              "<div>\n",
              "<style scoped>\n",
              "    .dataframe tbody tr th:only-of-type {\n",
              "        vertical-align: middle;\n",
              "    }\n",
              "\n",
              "    .dataframe tbody tr th {\n",
              "        vertical-align: top;\n",
              "    }\n",
              "\n",
              "    .dataframe thead th {\n",
              "        text-align: right;\n",
              "    }\n",
              "</style>\n",
              "<table border=\"1\" class=\"dataframe\">\n",
              "  <thead>\n",
              "    <tr style=\"text-align: right;\">\n",
              "      <th></th>\n",
              "      <th>PassengerId</th>\n",
              "      <th>Survived</th>\n",
              "      <th>Pclass</th>\n",
              "      <th>Name</th>\n",
              "      <th>Sex</th>\n",
              "      <th>Age</th>\n",
              "      <th>SibSp</th>\n",
              "      <th>Parch</th>\n",
              "      <th>Ticket</th>\n",
              "      <th>Fare</th>\n",
              "      <th>Cabin</th>\n",
              "      <th>Embarked</th>\n",
              "    </tr>\n",
              "  </thead>\n",
              "  <tbody>\n",
              "    <tr>\n",
              "      <th>886</th>\n",
              "      <td>887</td>\n",
              "      <td>0</td>\n",
              "      <td>2</td>\n",
              "      <td>Montvila, Rev. Juozas</td>\n",
              "      <td>male</td>\n",
              "      <td>27.0</td>\n",
              "      <td>0</td>\n",
              "      <td>0</td>\n",
              "      <td>211536</td>\n",
              "      <td>13.00</td>\n",
              "      <td>NaN</td>\n",
              "      <td>S</td>\n",
              "    </tr>\n",
              "    <tr>\n",
              "      <th>887</th>\n",
              "      <td>888</td>\n",
              "      <td>1</td>\n",
              "      <td>1</td>\n",
              "      <td>Graham, Miss. Margaret Edith</td>\n",
              "      <td>female</td>\n",
              "      <td>19.0</td>\n",
              "      <td>0</td>\n",
              "      <td>0</td>\n",
              "      <td>112053</td>\n",
              "      <td>30.00</td>\n",
              "      <td>B42</td>\n",
              "      <td>S</td>\n",
              "    </tr>\n",
              "    <tr>\n",
              "      <th>888</th>\n",
              "      <td>889</td>\n",
              "      <td>0</td>\n",
              "      <td>3</td>\n",
              "      <td>Johnston, Miss. Catherine Helen \"Carrie\"</td>\n",
              "      <td>female</td>\n",
              "      <td>NaN</td>\n",
              "      <td>1</td>\n",
              "      <td>2</td>\n",
              "      <td>W./C. 6607</td>\n",
              "      <td>23.45</td>\n",
              "      <td>NaN</td>\n",
              "      <td>S</td>\n",
              "    </tr>\n",
              "    <tr>\n",
              "      <th>889</th>\n",
              "      <td>890</td>\n",
              "      <td>1</td>\n",
              "      <td>1</td>\n",
              "      <td>Behr, Mr. Karl Howell</td>\n",
              "      <td>male</td>\n",
              "      <td>26.0</td>\n",
              "      <td>0</td>\n",
              "      <td>0</td>\n",
              "      <td>111369</td>\n",
              "      <td>30.00</td>\n",
              "      <td>C148</td>\n",
              "      <td>C</td>\n",
              "    </tr>\n",
              "    <tr>\n",
              "      <th>890</th>\n",
              "      <td>891</td>\n",
              "      <td>0</td>\n",
              "      <td>3</td>\n",
              "      <td>Dooley, Mr. Patrick</td>\n",
              "      <td>male</td>\n",
              "      <td>32.0</td>\n",
              "      <td>0</td>\n",
              "      <td>0</td>\n",
              "      <td>370376</td>\n",
              "      <td>7.75</td>\n",
              "      <td>NaN</td>\n",
              "      <td>Q</td>\n",
              "    </tr>\n",
              "  </tbody>\n",
              "</table>\n",
              "</div>"
            ],
            "text/plain": [
              "     PassengerId  Survived  Pclass  ...   Fare Cabin  Embarked\n",
              "886          887         0       2  ...  13.00   NaN         S\n",
              "887          888         1       1  ...  30.00   B42         S\n",
              "888          889         0       3  ...  23.45   NaN         S\n",
              "889          890         1       1  ...  30.00  C148         C\n",
              "890          891         0       3  ...   7.75   NaN         Q\n",
              "\n",
              "[5 rows x 12 columns]"
            ]
          },
          "metadata": {
            "tags": []
          },
          "execution_count": 6
        }
      ]
    },
    {
      "cell_type": "code",
      "metadata": {
        "id": "_iXBk_w4Nvkp",
        "outputId": "16ddabe9-ac2f-45b0-d797-9535cdea455b",
        "colab": {
          "base_uri": "https://localhost:8080/",
          "height": 238
        }
      },
      "source": [
        "test_data.tail()"
      ],
      "execution_count": null,
      "outputs": [
        {
          "output_type": "execute_result",
          "data": {
            "text/html": [
              "<div>\n",
              "<style scoped>\n",
              "    .dataframe tbody tr th:only-of-type {\n",
              "        vertical-align: middle;\n",
              "    }\n",
              "\n",
              "    .dataframe tbody tr th {\n",
              "        vertical-align: top;\n",
              "    }\n",
              "\n",
              "    .dataframe thead th {\n",
              "        text-align: right;\n",
              "    }\n",
              "</style>\n",
              "<table border=\"1\" class=\"dataframe\">\n",
              "  <thead>\n",
              "    <tr style=\"text-align: right;\">\n",
              "      <th></th>\n",
              "      <th>PassengerId</th>\n",
              "      <th>Pclass</th>\n",
              "      <th>Name</th>\n",
              "      <th>Sex</th>\n",
              "      <th>Age</th>\n",
              "      <th>SibSp</th>\n",
              "      <th>Parch</th>\n",
              "      <th>Ticket</th>\n",
              "      <th>Fare</th>\n",
              "      <th>Cabin</th>\n",
              "      <th>Embarked</th>\n",
              "    </tr>\n",
              "  </thead>\n",
              "  <tbody>\n",
              "    <tr>\n",
              "      <th>413</th>\n",
              "      <td>1305</td>\n",
              "      <td>3</td>\n",
              "      <td>Spector, Mr. Woolf</td>\n",
              "      <td>male</td>\n",
              "      <td>NaN</td>\n",
              "      <td>0</td>\n",
              "      <td>0</td>\n",
              "      <td>A.5. 3236</td>\n",
              "      <td>8.0500</td>\n",
              "      <td>NaN</td>\n",
              "      <td>S</td>\n",
              "    </tr>\n",
              "    <tr>\n",
              "      <th>414</th>\n",
              "      <td>1306</td>\n",
              "      <td>1</td>\n",
              "      <td>Oliva y Ocana, Dona. Fermina</td>\n",
              "      <td>female</td>\n",
              "      <td>39.0</td>\n",
              "      <td>0</td>\n",
              "      <td>0</td>\n",
              "      <td>PC 17758</td>\n",
              "      <td>108.9000</td>\n",
              "      <td>C105</td>\n",
              "      <td>C</td>\n",
              "    </tr>\n",
              "    <tr>\n",
              "      <th>415</th>\n",
              "      <td>1307</td>\n",
              "      <td>3</td>\n",
              "      <td>Saether, Mr. Simon Sivertsen</td>\n",
              "      <td>male</td>\n",
              "      <td>38.5</td>\n",
              "      <td>0</td>\n",
              "      <td>0</td>\n",
              "      <td>SOTON/O.Q. 3101262</td>\n",
              "      <td>7.2500</td>\n",
              "      <td>NaN</td>\n",
              "      <td>S</td>\n",
              "    </tr>\n",
              "    <tr>\n",
              "      <th>416</th>\n",
              "      <td>1308</td>\n",
              "      <td>3</td>\n",
              "      <td>Ware, Mr. Frederick</td>\n",
              "      <td>male</td>\n",
              "      <td>NaN</td>\n",
              "      <td>0</td>\n",
              "      <td>0</td>\n",
              "      <td>359309</td>\n",
              "      <td>8.0500</td>\n",
              "      <td>NaN</td>\n",
              "      <td>S</td>\n",
              "    </tr>\n",
              "    <tr>\n",
              "      <th>417</th>\n",
              "      <td>1309</td>\n",
              "      <td>3</td>\n",
              "      <td>Peter, Master. Michael J</td>\n",
              "      <td>male</td>\n",
              "      <td>NaN</td>\n",
              "      <td>1</td>\n",
              "      <td>1</td>\n",
              "      <td>2668</td>\n",
              "      <td>22.3583</td>\n",
              "      <td>NaN</td>\n",
              "      <td>C</td>\n",
              "    </tr>\n",
              "  </tbody>\n",
              "</table>\n",
              "</div>"
            ],
            "text/plain": [
              "     PassengerId  Pclass                          Name  ...      Fare  Cabin  Embarked\n",
              "413         1305       3            Spector, Mr. Woolf  ...    8.0500    NaN         S\n",
              "414         1306       1  Oliva y Ocana, Dona. Fermina  ...  108.9000   C105         C\n",
              "415         1307       3  Saether, Mr. Simon Sivertsen  ...    7.2500    NaN         S\n",
              "416         1308       3           Ware, Mr. Frederick  ...    8.0500    NaN         S\n",
              "417         1309       3      Peter, Master. Michael J  ...   22.3583    NaN         C\n",
              "\n",
              "[5 rows x 11 columns]"
            ]
          },
          "metadata": {
            "tags": []
          },
          "execution_count": 7
        }
      ]
    },
    {
      "cell_type": "code",
      "metadata": {
        "id": "QPb4m7QANye8",
        "outputId": "79105653-ae68-49d8-a301-ddbcc2604004",
        "colab": {
          "base_uri": "https://localhost:8080/",
          "height": 238
        }
      },
      "source": [
        "# check the datatypes of the columns\n",
        "train_data.dtypes"
      ],
      "execution_count": null,
      "outputs": [
        {
          "output_type": "execute_result",
          "data": {
            "text/plain": [
              "PassengerId      int64\n",
              "Survived         int64\n",
              "Pclass           int64\n",
              "Name            object\n",
              "Sex             object\n",
              "Age            float64\n",
              "SibSp            int64\n",
              "Parch            int64\n",
              "Ticket          object\n",
              "Fare           float64\n",
              "Cabin           object\n",
              "Embarked        object\n",
              "dtype: object"
            ]
          },
          "metadata": {
            "tags": []
          },
          "execution_count": 8
        }
      ]
    },
    {
      "cell_type": "code",
      "metadata": {
        "id": "hBW-eAVZN9Vm",
        "outputId": "bd23ec9d-4e97-4628-8440-f30088d7f4e9",
        "colab": {
          "base_uri": "https://localhost:8080/",
          "height": 221
        }
      },
      "source": [
        "test_data.dtypes"
      ],
      "execution_count": null,
      "outputs": [
        {
          "output_type": "execute_result",
          "data": {
            "text/plain": [
              "PassengerId      int64\n",
              "Pclass           int64\n",
              "Name            object\n",
              "Sex             object\n",
              "Age            float64\n",
              "SibSp            int64\n",
              "Parch            int64\n",
              "Ticket          object\n",
              "Fare           float64\n",
              "Cabin           object\n",
              "Embarked        object\n",
              "dtype: object"
            ]
          },
          "metadata": {
            "tags": []
          },
          "execution_count": 9
        }
      ]
    },
    {
      "cell_type": "markdown",
      "metadata": {
        "id": "utzYfKl0O1Dv"
      },
      "source": [
        ">The train and test datasets have similar data that include passenger information like name, age, gender, socio-economic class, etc. The train data has 891 rows and 12 columns and reveals whether a passenger survived or not. The test data with 418 rows and 11 columns contains similar information but does not disclose whether the passenger survived or not, and these are the predictions that need to be made. "
      ]
    },
    {
      "cell_type": "markdown",
      "metadata": {
        "id": "3hV476rRScf0"
      },
      "source": [
        "# Appropriateness of the available data to answer the given question"
      ]
    },
    {
      "cell_type": "markdown",
      "metadata": {
        "id": "pU5UpX2PStbX"
      },
      "source": [
        "The data available is a csv file which can be downloaded on this [train data](https://archive.org/download/train5_202002/train%20%285%29.csv), [test data](https://archive.org/download/test1_202002/test%20%281%29.csv).\n",
        "\n",
        "The data contains features such as a passenger's name, their sex, age, number of siblings on board(Sibsp), amount of fare paid, passenger class, cabin etc. \n",
        "\n",
        "These features all had a huge effect when the ship sank and will be useful to us in classifying a passenger's survival. \n",
        "\n",
        "We can therefore conclude that the data available is appropriate and relevant to the needs of the research question.\n"
      ]
    },
    {
      "cell_type": "markdown",
      "metadata": {
        "id": "zM21kSHtUn7P"
      },
      "source": [
        "# **Data Cleaning**"
      ]
    },
    {
      "cell_type": "markdown",
      "metadata": {
        "id": "jjrlGUsaMAHn"
      },
      "source": [
        ">We will perform similar transformations on both the train and test data to avoid any inconsistencies during the modeling process. "
      ]
    },
    {
      "cell_type": "markdown",
      "metadata": {
        "id": "MyjJYMUwVL2t"
      },
      "source": [
        "## Missing data"
      ]
    },
    {
      "cell_type": "markdown",
      "metadata": {
        "id": "5LmsJ5BVVRmC"
      },
      "source": [
        ">Missing data has been coded with Nan values and need to be handled(imputing/dropping). "
      ]
    },
    {
      "cell_type": "code",
      "metadata": {
        "id": "eEFEPl_zRGKn",
        "outputId": "bc4d783b-7849-47bf-de3a-bb1de8bbbb3a",
        "colab": {
          "base_uri": "https://localhost:8080/"
        }
      },
      "source": [
        "# check for missing data in the train data\n",
        "train_data.isnull().sum()"
      ],
      "execution_count": null,
      "outputs": [
        {
          "output_type": "execute_result",
          "data": {
            "text/plain": [
              "PassengerId      0\n",
              "Survived         0\n",
              "Pclass           0\n",
              "Name             0\n",
              "Sex              0\n",
              "Age            177\n",
              "SibSp            0\n",
              "Parch            0\n",
              "Ticket           0\n",
              "Fare             0\n",
              "Cabin          687\n",
              "Embarked         2\n",
              "dtype: int64"
            ]
          },
          "metadata": {
            "tags": []
          },
          "execution_count": 10
        }
      ]
    },
    {
      "cell_type": "code",
      "metadata": {
        "id": "j-GWmPdY9Mri",
        "outputId": "e2421d86-9eac-44de-ad46-0472ed3ec313",
        "colab": {
          "base_uri": "https://localhost:8080/"
        }
      },
      "source": [
        "print(test_data.shape)\n",
        "test_data.isnull().sum()"
      ],
      "execution_count": null,
      "outputs": [
        {
          "output_type": "stream",
          "text": [
            "(418, 11)\n"
          ],
          "name": "stdout"
        },
        {
          "output_type": "execute_result",
          "data": {
            "text/plain": [
              "PassengerId      0\n",
              "Pclass           0\n",
              "Name             0\n",
              "Sex              0\n",
              "Age             86\n",
              "SibSp            0\n",
              "Parch            0\n",
              "Ticket           0\n",
              "Fare             1\n",
              "Cabin          327\n",
              "Embarked         0\n",
              "dtype: int64"
            ]
          },
          "metadata": {
            "tags": []
          },
          "execution_count": 11
        }
      ]
    },
    {
      "cell_type": "markdown",
      "metadata": {
        "id": "v4YgSiSbV7tJ"
      },
      "source": [
        ">The cabin column contains missing values for almost all entries. We can drop this column. \n",
        "\n",
        "We can impute the missing values in the Age column, but first it is important to know the distribution of the ages. It is also likely that a passenger's age determined the class they could pay for i.e. older passengers are likely to pay for first class due to their economic status."
      ]
    },
    {
      "cell_type": "code",
      "metadata": {
        "id": "e4T5NZNXVk7l",
        "outputId": "9d6aaa73-d994-4417-e8c2-4b7f09a0f450",
        "colab": {
          "base_uri": "https://localhost:8080/"
        }
      },
      "source": [
        "train = train_data.drop('Cabin', 1)\n",
        "test = test_data.drop('Cabin', 1)\n",
        "# check the distribution of the Age column \n",
        "sns.histplot(train['Age'])\n",
        "\n",
        "# the ages of the passengers and crew on board assumes the shape of a normal curve and can be said to be normally distrbuted"
      ],
      "execution_count": null,
      "outputs": [
        {
          "output_type": "execute_result",
          "data": {
            "text/plain": [
              "<matplotlib.axes._subplots.AxesSubplot at 0x7faa821fc438>"
            ]
          },
          "metadata": {
            "tags": []
          },
          "execution_count": 12
        },
        {
          "output_type": "display_data",
          "data": {
            "image/png": "[encoded data removed]",
            "text/plain": [
              "<Figure size 432x288 with 1 Axes>"
            ]
          },
          "metadata": {
            "tags": [],
            "needs_background": "light"
          }
        }
      ]
    },
    {
      "cell_type": "code",
      "metadata": {
        "id": "GukWzXHtYM0k",
        "outputId": "449bdd33-eb3e-4483-f70c-f3ac749fda23",
        "colab": {
          "base_uri": "https://localhost:8080/"
        }
      },
      "source": [
        "# check the distribution of ages against the passengers' class on the ship\n",
        "sns.boxplot(train['Pclass'], train['Age'])"
      ],
      "execution_count": null,
      "outputs": [
        {
          "output_type": "execute_result",
          "data": {
            "text/plain": [
              "<matplotlib.axes._subplots.AxesSubplot at 0x7faa8218bd30>"
            ]
          },
          "metadata": {
            "tags": []
          },
          "execution_count": 13
        },
        {
          "output_type": "display_data",
          "data": {
            "image/png": "[encoded data removed]",
            "text/plain": [
              "<Figure size 432x288 with 1 Axes>"
            ]
          },
          "metadata": {
            "tags": [],
            "needs_background": "light"
          }
        }
      ]
    },
    {
      "cell_type": "markdown",
      "metadata": {
        "id": "-XmKFhDsZUH1"
      },
      "source": [
        "From the above plots, we can see that:\n",
        "- the ages of the passengers and crew on board assumes the shape of a normal curve and can be said to be normally distrbuted. \n",
        "- age and passenger's class are related. Most passengers in first class were of age between 29 and 48, 2nd class- between 22 and 36, 3rd class- between ages 20 and 30. \n",
        "\n",
        "We can therefore use this criteria to fill the missing values in the Age column.\n",
        "\n"
      ]
    },
    {
      "cell_type": "code",
      "metadata": {
        "id": "XgoEQzIaYwv5",
        "outputId": "8732239b-e6fc-4978-d23a-4c740e11914c",
        "colab": {
          "base_uri": "https://localhost:8080/"
        }
      },
      "source": [
        "# find the mean ages of passengers in each class\n",
        "first_class = train[(train['Pclass']==1)]\n",
        "print(\"The mean age of passengers in 1st class: \",round(first_class['Age'].mean()))\n",
        "\n",
        "second_class = train[(train['Pclass']==2)]\n",
        "print(\"The mean age of passengers in 2nd class: \", round(second_class['Age'].mean()))\n",
        "\n",
        "third_class = train[(train['Pclass']==3)]\n",
        "print(\"The mean age of passengers in 3rd class: \", round(third_class['Age'].mean()))\n",
        "\n"
      ],
      "execution_count": null,
      "outputs": [
        {
          "output_type": "stream",
          "text": [
            "The mean age of passengers in 1st class:  38\n",
            "The mean age of passengers in 2nd class:  30\n",
            "The mean age of passengers in 3rd class:  25\n"
          ],
          "name": "stdout"
        }
      ]
    },
    {
      "cell_type": "code",
      "metadata": {
        "id": "VIB5qffIE9Kd",
        "outputId": "d4438505-1805-417f-a781-c07a7c9ad0c3",
        "colab": {
          "base_uri": "https://localhost:8080/"
        }
      },
      "source": [
        "# find the mean ages of passengers in each class in the test dataset\n",
        "first_class_test = test[(test['Pclass']==1)]\n",
        "print(\"The mean age of passengers in 1st class_testdata: \",round(first_class_test['Age'].mean()))\n",
        "\n",
        "second_class_test = test[(test['Pclass']==2)]\n",
        "print(\"The mean age of passengers in 2nd class_testdata: \", round(second_class_test['Age'].mean()))\n",
        "\n",
        "third_class_test = test[(test['Pclass']==3)]\n",
        "print(\"The mean age of passengers in 3rd class_testdata: \", round(third_class_test['Age'].mean()))\n",
        "\n"
      ],
      "execution_count": null,
      "outputs": [
        {
          "output_type": "stream",
          "text": [
            "The mean age of passengers in 1st class_testdata:  41\n",
            "The mean age of passengers in 2nd class_testdata:  29\n",
            "The mean age of passengers in 3rd class_testdata:  24\n"
          ],
          "name": "stdout"
        }
      ]
    },
    {
      "cell_type": "code",
      "metadata": {
        "id": "l28j3Z_slOIA"
      },
      "source": [
        "# we will use these mean ages to fill in the null values in the train data\n",
        "\n",
        "def age_approx(cols):\n",
        "    Age = cols[0]\n",
        "    Pclass = cols[1]\n",
        "    \n",
        "    # find each null value in the Age column, checks the Pclass and imputes the age according to the above mean age in that class\n",
        "    if pd.isnull(Age):\n",
        "        if Pclass == 1:\n",
        "            return 38\n",
        "        elif Pclass == 2:\n",
        "            return 30\n",
        "        else:\n",
        "            return 25\n",
        "    else:\n",
        "        return Age\n",
        "\n",
        "# we will use the mean ages per class to fill in the null values in the test data\n",
        "\n",
        "def age_approx_test(cols):\n",
        "    Age = cols[0]\n",
        "    Pclass = cols[1]\n",
        "    \n",
        "    if pd.isnull(Age):\n",
        "        if Pclass == 1:\n",
        "            return 41\n",
        "        elif Pclass == 2:\n",
        "            return 29\n",
        "        else:\n",
        "            return 24\n",
        "    else:\n",
        "        return Age"
      ],
      "execution_count": null,
      "outputs": []
    },
    {
      "cell_type": "code",
      "metadata": {
        "id": "ybceQrUom-n0",
        "outputId": "e51658b4-6441-4861-a502-c9ed2760eac6",
        "colab": {
          "base_uri": "https://localhost:8080/"
        }
      },
      "source": [
        "# apply the function and check for null values, we see that there are no more null values in the age variable.\n",
        "#\n",
        "train['Age'] = train[['Age', 'Pclass']].apply(age_approx, axis=1)\n",
        "print(train.isnull().sum())\n",
        "\n",
        "test['Age'] = test[['Age', 'Pclass']].apply(age_approx_test, axis=1)\n",
        "print(test.isnull().sum())"
      ],
      "execution_count": null,
      "outputs": [
        {
          "output_type": "stream",
          "text": [
            "PassengerId    0\n",
            "Survived       0\n",
            "Pclass         0\n",
            "Name           0\n",
            "Sex            0\n",
            "Age            0\n",
            "SibSp          0\n",
            "Parch          0\n",
            "Ticket         0\n",
            "Fare           0\n",
            "Embarked       2\n",
            "dtype: int64\n",
            "PassengerId    0\n",
            "Pclass         0\n",
            "Name           0\n",
            "Sex            0\n",
            "Age            0\n",
            "SibSp          0\n",
            "Parch          0\n",
            "Ticket         0\n",
            "Fare           1\n",
            "Embarked       0\n",
            "dtype: int64\n"
          ],
          "name": "stdout"
        }
      ]
    },
    {
      "cell_type": "code",
      "metadata": {
        "id": "naXTCLTknIj6",
        "outputId": "f33c952f-cd51-4265-ccc4-f7f1cd1458d2",
        "colab": {
          "base_uri": "https://localhost:8080/"
        }
      },
      "source": [
        "# there are only few missing values remaining in the \"Embarked\" and \"Fare\" column, these can be dropped without causing much harm\n",
        "train = train.dropna()\n",
        "print(train.isnull().sum())\n",
        "\n",
        "test = test.dropna()\n",
        "print(test.isnull().sum())"
      ],
      "execution_count": null,
      "outputs": [
        {
          "output_type": "stream",
          "text": [
            "PassengerId    0\n",
            "Survived       0\n",
            "Pclass         0\n",
            "Name           0\n",
            "Sex            0\n",
            "Age            0\n",
            "SibSp          0\n",
            "Parch          0\n",
            "Ticket         0\n",
            "Fare           0\n",
            "Embarked       0\n",
            "dtype: int64\n",
            "PassengerId    0\n",
            "Pclass         0\n",
            "Name           0\n",
            "Sex            0\n",
            "Age            0\n",
            "SibSp          0\n",
            "Parch          0\n",
            "Ticket         0\n",
            "Fare           0\n",
            "Embarked       0\n",
            "dtype: int64\n"
          ],
          "name": "stdout"
        }
      ]
    },
    {
      "cell_type": "markdown",
      "metadata": {
        "id": "NDQoqyqapm5q"
      },
      "source": [
        "## Data-Type Conversion"
      ]
    },
    {
      "cell_type": "markdown",
      "metadata": {
        "id": "fxsi7qfhozuF"
      },
      "source": [
        ">Some columns contain categorical data which is of object type and needs to be transformed to numeric datatype to make it easier for plotting and also during modelling. "
      ]
    },
    {
      "cell_type": "code",
      "metadata": {
        "id": "RaOJ67K_J1J_"
      },
      "source": [
        "# drop unnecessary columns. These columns will not be useful during modeling.\n",
        "train = train.drop(['PassengerId', 'Name', 'Ticket'], 1)\n",
        "test = test.drop(['PassengerId', 'Name', 'Ticket'], 1)"
      ],
      "execution_count": null,
      "outputs": []
    },
    {
      "cell_type": "code",
      "metadata": {
        "id": "q7efnpxqJpjN",
        "outputId": "34cd4058-46e2-4db4-e590-e88827600952",
        "colab": {
          "base_uri": "https://localhost:8080/"
        }
      },
      "source": [
        "print(train.head())\n",
        "\n",
        "print(test.head())"
      ],
      "execution_count": null,
      "outputs": [
        {
          "output_type": "stream",
          "text": [
            "   Survived  Pclass     Sex   Age  SibSp  Parch     Fare Embarked\n",
            "0         0       3    male  22.0      1      0   7.2500        S\n",
            "1         1       1  female  38.0      1      0  71.2833        C\n",
            "2         1       3  female  26.0      0      0   7.9250        S\n",
            "3         1       1  female  35.0      1      0  53.1000        S\n",
            "4         0       3    male  35.0      0      0   8.0500        S\n",
            "   Pclass     Sex   Age  SibSp  Parch     Fare Embarked\n",
            "0       3    male  34.5      0      0   7.8292        Q\n",
            "1       3  female  47.0      1      0   7.0000        S\n",
            "2       2    male  62.0      0      0   9.6875        Q\n",
            "3       3    male  27.0      0      0   8.6625        S\n",
            "4       3  female  22.0      1      1  12.2875        S\n"
          ],
          "name": "stdout"
        }
      ]
    },
    {
      "cell_type": "code",
      "metadata": {
        "id": "P_GbI5Bhpy53",
        "outputId": "0b4b4277-8de1-46f0-f1df-5f2e607b4fe3",
        "colab": {
          "base_uri": "https://localhost:8080/"
        }
      },
      "source": [
        "# check for categorical columns in the data and print them out\n",
        "\n",
        "# Categorical boolean mask\n",
        "categorical_feature_mask = train.dtypes==object\n",
        "categorical_feature_mask_test = test.dtypes==object\n",
        "\n",
        "\n",
        "# filter categorical columns using mask and turn it into a list\n",
        "categorical_cols = train.columns[categorical_feature_mask].tolist()\n",
        "categorical_cols_test = test.columns[categorical_feature_mask_test].tolist()\n",
        "\n",
        "print(categorical_cols)\n",
        "print(categorical_cols_test)\n",
        "\n",
        "# categorical columns in both the test and train data are the sex and embarked columns"
      ],
      "execution_count": null,
      "outputs": [
        {
          "output_type": "stream",
          "text": [
            "['Sex', 'Embarked']\n",
            "['Sex', 'Embarked']\n"
          ],
          "name": "stdout"
        }
      ]
    },
    {
      "cell_type": "code",
      "metadata": {
        "id": "5OmhcWCnescn",
        "outputId": "512f4ae9-0fb0-4ff3-9d00-26d12febf3ad",
        "colab": {
          "base_uri": "https://localhost:8080/"
        }
      },
      "source": [
        "\n",
        "# Using a for loop to change columns to their appropriate datatypes\n",
        "#\n",
        "for column in train.columns:\n",
        "    if column in categorical_cols:\n",
        "      train[column] = train[column].astype('category').cat.codes\n",
        "\n",
        "# perform the same transformation on the test data\n",
        "\n",
        "for column in test.columns:\n",
        "    if column in categorical_cols_test:\n",
        "      test[column] = test[column].astype('category').cat.codes\n",
        "  \n",
        "# Previewing the column datatypes to check whether the changes have been effected\n",
        "#\n",
        "print(train.dtypes)\n",
        "print(test.dtypes)"
      ],
      "execution_count": null,
      "outputs": [
        {
          "output_type": "stream",
          "text": [
            "Survived      int64\n",
            "Pclass        int64\n",
            "Sex            int8\n",
            "Age         float64\n",
            "SibSp         int64\n",
            "Parch         int64\n",
            "Fare        float64\n",
            "Embarked       int8\n",
            "dtype: object\n",
            "Pclass        int64\n",
            "Sex            int8\n",
            "Age         float64\n",
            "SibSp         int64\n",
            "Parch         int64\n",
            "Fare        float64\n",
            "Embarked       int8\n",
            "dtype: object\n"
          ],
          "name": "stdout"
        }
      ]
    },
    {
      "cell_type": "markdown",
      "metadata": {
        "id": "6bs_PTOrKnyZ"
      },
      "source": [
        ">The data is now numerical which we can work with easily."
      ]
    },
    {
      "cell_type": "markdown",
      "metadata": {
        "id": "_Frj3_1xoKbY"
      },
      "source": [
        "## Outliers"
      ]
    },
    {
      "cell_type": "code",
      "metadata": {
        "id": "LAuJYRVkoNHN",
        "outputId": "cbd3fa92-1be2-447e-f6ea-63aa0daaa4fd",
        "colab": {
          "base_uri": "https://localhost:8080/"
        }
      },
      "source": [
        "train.columns"
      ],
      "execution_count": null,
      "outputs": [
        {
          "output_type": "execute_result",
          "data": {
            "text/plain": [
              "Index(['Survived', 'Pclass', 'Sex', 'Age', 'SibSp', 'Parch', 'Fare',\n",
              "       'Embarked'],\n",
              "      dtype='object')"
            ]
          },
          "metadata": {
            "tags": []
          },
          "execution_count": 23
        }
      ]
    },
    {
      "cell_type": "code",
      "metadata": {
        "id": "j-y3z1yAoDCh",
        "outputId": "af63c17a-e172-49bd-dccf-aa5870f181a7",
        "colab": {
          "base_uri": "https://localhost:8080/"
        }
      },
      "source": [
        "# Checking for Outliers\n",
        " \n",
        "# save the column names onto a dictionary\n",
        "columns_dict = {'Survived':1, 'Pclass':2,'Sex':3, 'Age':4, 'SibSp':5, 'Parch':6, 'Fare':7, 'Embarked':8}\n",
        "\n",
        "plt.figure(figsize=(20,30))\n",
        "\n",
        "# make a boxplot for each numerical column\n",
        "for variable,i in columns_dict.items():\n",
        "  plt.subplot(7,4,i)\n",
        "  plt.boxplot(train[variable])\n",
        "  plt.title(variable)\n",
        "\n",
        "plt.show()"
      ],
      "execution_count": null,
      "outputs": [
        {
          "output_type": "display_data",
          "data": {
            "image/png": "[encoded data removed]",
            "text/plain": [
              "<Figure size 1440x2160 with 8 Axes>"
            ]
          },
          "metadata": {
            "tags": [],
            "needs_background": "light"
          }
        }
      ]
    },
    {
      "cell_type": "code",
      "metadata": {
        "id": "WB6lh5HJogxA",
        "outputId": "dec7f30e-c2f3-41b8-c3e0-5e501b01939f",
        "colab": {
          "base_uri": "https://localhost:8080/"
        }
      },
      "source": [
        "# dealing with outliers\n",
        "\n",
        "print(f\"Size of dataset with outliers: {train.shape}\")\n",
        "# dealing with outliers\n",
        "Q1 = train.quantile(0.25)\n",
        "Q3 = train.quantile(0.75)\n",
        "IQR = Q3 - Q1\n",
        "data = train[~((train < (Q1 - 1.5 * IQR)) | (train > (Q3 + 1.5 * IQR))).any(axis=1)]\n",
        "\n",
        "print(\"...................\")\n",
        "\n",
        "print(f\"Size of dataset after removal of outliers: {data.shape}\")"
      ],
      "execution_count": null,
      "outputs": [
        {
          "output_type": "stream",
          "text": [
            "Size of dataset with outliers: (889, 8)\n",
            "...................\n",
            "Size of dataset after removal of outliers: (587, 8)\n"
          ],
          "name": "stdout"
        }
      ]
    },
    {
      "cell_type": "code",
      "metadata": {
        "id": "k8VWVfK3L0zu",
        "outputId": "509caaac-32c4-4e6a-8a54-bd85098bb149",
        "colab": {
          "base_uri": "https://localhost:8080/"
        }
      },
      "source": [
        "plt.figure(figsize=(20,30))\n",
        "\n",
        "# make a boxplot for each numerical column\n",
        "for variable,i in columns_dict.items():\n",
        "  plt.subplot(7,4,i)\n",
        "  plt.boxplot(data[variable])\n",
        "  plt.title(variable)\n",
        "\n",
        "plt.show()"
      ],
      "execution_count": null,
      "outputs": [
        {
          "output_type": "display_data",
          "data": {
            "image/png": "[encoded data removed]",
            "text/plain": [
              "<Figure size 1440x2160 with 8 Axes>"
            ]
          },
          "metadata": {
            "tags": [],
            "needs_background": "light"
          }
        }
      ]
    },
    {
      "cell_type": "markdown",
      "metadata": {
        "id": "Nbr0qxR_MJmj"
      },
      "source": [
        ">removing outliers causes inconsistencies in our data especially in columns that contain categorical data such as Sex, Sibsp, Parch. For columns with continuous data such as Age and Fare, not all of them are removed. We will therefore revert back to our initial state to avoid loosing important information. "
      ]
    },
    {
      "cell_type": "code",
      "metadata": {
        "id": "nHzt6VpsL9Uy",
        "outputId": "48fbadbf-35ec-4d9e-cc2e-788eeb507387",
        "colab": {
          "base_uri": "https://localhost:8080/"
        }
      },
      "source": [
        "train.shape"
      ],
      "execution_count": null,
      "outputs": [
        {
          "output_type": "execute_result",
          "data": {
            "text/plain": [
              "(889, 8)"
            ]
          },
          "metadata": {
            "tags": []
          },
          "execution_count": 27
        }
      ]
    },
    {
      "cell_type": "markdown",
      "metadata": {
        "id": "mr3XCJIkM6fA"
      },
      "source": [
        "## Anomalies"
      ]
    },
    {
      "cell_type": "code",
      "metadata": {
        "id": "zeTScFnMM4V1",
        "outputId": "93ed2891-1b58-4a7b-bf57-4dae9b423e30",
        "colab": {
          "base_uri": "https://localhost:8080/"
        }
      },
      "source": [
        "# checking for anomalies\n",
        "# calculate the interquartile range using pandas\n",
        "Q1 = train['Fare'].quantile(0.25)\n",
        "Q3 = train['Fare'].quantile(0.75)\n",
        "IQR = Q3 - Q1\n",
        "\n",
        "# the interquartile range can also be calculated using numpy\n",
        "iqr1 = np.quantile(train['Fare'], .25)\n",
        "iqr3 = np.quantile(train['Fare'], .75)\n",
        "IQR2 = iqr3 - iqr1\n",
        "\n",
        "# compare the two values\n",
        "print(IQR, IQR2)"
      ],
      "execution_count": null,
      "outputs": [
        {
          "output_type": "stream",
          "text": [
            "23.1042 23.1042\n"
          ],
          "name": "stdout"
        }
      ]
    },
    {
      "cell_type": "markdown",
      "metadata": {
        "id": "ZLmLdIP7NYwi"
      },
      "source": [
        "# Exploratory Data Analysis"
      ]
    },
    {
      "cell_type": "markdown",
      "metadata": {
        "id": "TPECCkmONcxp"
      },
      "source": [
        "## Univariate Analysis"
      ]
    },
    {
      "cell_type": "markdown",
      "metadata": {
        "id": "2U5nM-OVOPBv"
      },
      "source": [
        "**Histogram plots**"
      ]
    },
    {
      "cell_type": "code",
      "metadata": {
        "id": "D-yUOIujNSUa",
        "outputId": "42e637f2-2a40-45c2-e736-fedd63a6d2ec",
        "colab": {
          "base_uri": "https://localhost:8080/"
        }
      },
      "source": [
        "# plot histograms for all numeric columns\n",
        "plt.figure(figsize = (20,30))\n",
        "for variable,i in columns_dict.items():\n",
        "  plt.subplot(7,4,i)\n",
        "  sns.histplot(train[variable])\n",
        "\n",
        "plt.show()"
      ],
      "execution_count": null,
      "outputs": [
        {
          "output_type": "display_data",
          "data": {
            "image/png": "[encoded data removed]",
            "text/plain": [
              "<Figure size 1440x2160 with 8 Axes>"
            ]
          },
          "metadata": {
            "tags": [],
            "needs_background": "light"
          }
        }
      ]
    },
    {
      "cell_type": "markdown",
      "metadata": {
        "id": "dLdzWduxNznX"
      },
      "source": [
        ">The Age data assumes the shape of a normal curve, while the Fare data is skewed to the right. The rest of the data is categorical in nature and can be seen in the bar plots."
      ]
    },
    {
      "cell_type": "markdown",
      "metadata": {
        "id": "nOYHllt9OLO-"
      },
      "source": [
        "**Measures of central tendency**"
      ]
    },
    {
      "cell_type": "code",
      "metadata": {
        "id": "5dC3E6LyNlDB",
        "outputId": "87692008-5c91-4775-9b06-d06c19683f66",
        "colab": {
          "base_uri": "https://localhost:8080/"
        }
      },
      "source": [
        "# compute the mean of the columns in the data\n",
        "train.mean()\n"
      ],
      "execution_count": null,
      "outputs": [
        {
          "output_type": "execute_result",
          "data": {
            "text/plain": [
              "Survived     0.382452\n",
              "Pclass       2.311586\n",
              "Sex          0.649044\n",
              "Age         29.218414\n",
              "SibSp        0.524184\n",
              "Parch        0.382452\n",
              "Fare        32.096681\n",
              "Embarked     1.535433\n",
              "dtype: float64"
            ]
          },
          "metadata": {
            "tags": []
          },
          "execution_count": 30
        }
      ]
    },
    {
      "cell_type": "code",
      "metadata": {
        "id": "46Z90Bd9OUS1",
        "outputId": "aa72748d-db1a-40d9-8cd8-3164d166ef5e",
        "colab": {
          "base_uri": "https://localhost:8080/"
        }
      },
      "source": [
        "# compute the mean of the columns in the data\n",
        "train.median()\n"
      ],
      "execution_count": null,
      "outputs": [
        {
          "output_type": "execute_result",
          "data": {
            "text/plain": [
              "Survived     0.0000\n",
              "Pclass       3.0000\n",
              "Sex          1.0000\n",
              "Age         26.0000\n",
              "SibSp        0.0000\n",
              "Parch        0.0000\n",
              "Fare        14.4542\n",
              "Embarked     2.0000\n",
              "dtype: float64"
            ]
          },
          "metadata": {
            "tags": []
          },
          "execution_count": 31
        }
      ]
    },
    {
      "cell_type": "code",
      "metadata": {
        "id": "IgolIZM9Oo9_",
        "outputId": "efcd00f0-bd48-4da2-9d1a-fde5177b6a71",
        "colab": {
          "base_uri": "https://localhost:8080/"
        }
      },
      "source": [
        "# compute the mean of the columns in the data\n",
        "train.mode()\n"
      ],
      "execution_count": null,
      "outputs": [
        {
          "output_type": "execute_result",
          "data": {
            "text/html": [
              "<div>\n",
              "<style scoped>\n",
              "    .dataframe tbody tr th:only-of-type {\n",
              "        vertical-align: middle;\n",
              "    }\n",
              "\n",
              "    .dataframe tbody tr th {\n",
              "        vertical-align: top;\n",
              "    }\n",
              "\n",
              "    .dataframe thead th {\n",
              "        text-align: right;\n",
              "    }\n",
              "</style>\n",
              "<table border=\"1\" class=\"dataframe\">\n",
              "  <thead>\n",
              "    <tr style=\"text-align: right;\">\n",
              "      <th></th>\n",
              "      <th>Survived</th>\n",
              "      <th>Pclass</th>\n",
              "      <th>Sex</th>\n",
              "      <th>Age</th>\n",
              "      <th>SibSp</th>\n",
              "      <th>Parch</th>\n",
              "      <th>Fare</th>\n",
              "      <th>Embarked</th>\n",
              "    </tr>\n",
              "  </thead>\n",
              "  <tbody>\n",
              "    <tr>\n",
              "      <th>0</th>\n",
              "      <td>0</td>\n",
              "      <td>3</td>\n",
              "      <td>1</td>\n",
              "      <td>25.0</td>\n",
              "      <td>0</td>\n",
              "      <td>0</td>\n",
              "      <td>8.05</td>\n",
              "      <td>2</td>\n",
              "    </tr>\n",
              "  </tbody>\n",
              "</table>\n",
              "</div>"
            ],
            "text/plain": [
              "   Survived  Pclass  Sex   Age  SibSp  Parch  Fare  Embarked\n",
              "0         0       3    1  25.0      0      0  8.05         2"
            ]
          },
          "metadata": {
            "tags": []
          },
          "execution_count": 32
        }
      ]
    },
    {
      "cell_type": "markdown",
      "metadata": {
        "id": "RbagdoqhQxCB"
      },
      "source": [
        ">- the mean age of passengers on board was 29years\n",
        "- the median age of passengers on board was 26years\n",
        "- the median of the fare paid was 14.4542\n",
        "- most of the passengers on board were 25years\n",
        "- the modal fare paid was 8.05\n",
        "- most of the passengers took 3rd class and did not have any siblings aboard\n",
        "- most of the passengers were male and did not survive the shipwreck. \n",
        "\n",
        "We have visualized this statistics before, where we saw that passengers that were younger were more likely to take 3rd class on the ship and hence paying less fare.\n",
        "\n",
        "This information also is true from the history. Most males did not survive the wreck due to the \"women and children first\" protocol for loading lifeboats. "
      ]
    },
    {
      "cell_type": "markdown",
      "metadata": {
        "id": "5m07EuLER7Xh"
      },
      "source": [
        "**Measures of dispersion**"
      ]
    },
    {
      "cell_type": "code",
      "metadata": {
        "id": "agjM6bBHO9Pp",
        "outputId": "66d07c6f-123f-4653-e051-15047aa64681",
        "colab": {
          "base_uri": "https://localhost:8080/"
        }
      },
      "source": [
        "# # find the standard deviations, quantiles, min and max values\n",
        "\n",
        "# summary statistics of the data\n",
        "train.describe()"
      ],
      "execution_count": null,
      "outputs": [
        {
          "output_type": "execute_result",
          "data": {
            "text/html": [
              "<div>\n",
              "<style scoped>\n",
              "    .dataframe tbody tr th:only-of-type {\n",
              "        vertical-align: middle;\n",
              "    }\n",
              "\n",
              "    .dataframe tbody tr th {\n",
              "        vertical-align: top;\n",
              "    }\n",
              "\n",
              "    .dataframe thead th {\n",
              "        text-align: right;\n",
              "    }\n",
              "</style>\n",
              "<table border=\"1\" class=\"dataframe\">\n",
              "  <thead>\n",
              "    <tr style=\"text-align: right;\">\n",
              "      <th></th>\n",
              "      <th>Survived</th>\n",
              "      <th>Pclass</th>\n",
              "      <th>Sex</th>\n",
              "      <th>Age</th>\n",
              "      <th>SibSp</th>\n",
              "      <th>Parch</th>\n",
              "      <th>Fare</th>\n",
              "      <th>Embarked</th>\n",
              "    </tr>\n",
              "  </thead>\n",
              "  <tbody>\n",
              "    <tr>\n",
              "      <th>count</th>\n",
              "      <td>889.000000</td>\n",
              "      <td>889.000000</td>\n",
              "      <td>889.000000</td>\n",
              "      <td>889.000000</td>\n",
              "      <td>889.000000</td>\n",
              "      <td>889.000000</td>\n",
              "      <td>889.000000</td>\n",
              "      <td>889.000000</td>\n",
              "    </tr>\n",
              "    <tr>\n",
              "      <th>mean</th>\n",
              "      <td>0.382452</td>\n",
              "      <td>2.311586</td>\n",
              "      <td>0.649044</td>\n",
              "      <td>29.218414</td>\n",
              "      <td>0.524184</td>\n",
              "      <td>0.382452</td>\n",
              "      <td>32.096681</td>\n",
              "      <td>1.535433</td>\n",
              "    </tr>\n",
              "    <tr>\n",
              "      <th>std</th>\n",
              "      <td>0.486260</td>\n",
              "      <td>0.834700</td>\n",
              "      <td>0.477538</td>\n",
              "      <td>13.178017</td>\n",
              "      <td>1.103705</td>\n",
              "      <td>0.806761</td>\n",
              "      <td>49.697504</td>\n",
              "      <td>0.792088</td>\n",
              "    </tr>\n",
              "    <tr>\n",
              "      <th>min</th>\n",
              "      <td>0.000000</td>\n",
              "      <td>1.000000</td>\n",
              "      <td>0.000000</td>\n",
              "      <td>0.420000</td>\n",
              "      <td>0.000000</td>\n",
              "      <td>0.000000</td>\n",
              "      <td>0.000000</td>\n",
              "      <td>0.000000</td>\n",
              "    </tr>\n",
              "    <tr>\n",
              "      <th>25%</th>\n",
              "      <td>0.000000</td>\n",
              "      <td>2.000000</td>\n",
              "      <td>0.000000</td>\n",
              "      <td>22.000000</td>\n",
              "      <td>0.000000</td>\n",
              "      <td>0.000000</td>\n",
              "      <td>7.895800</td>\n",
              "      <td>1.000000</td>\n",
              "    </tr>\n",
              "    <tr>\n",
              "      <th>50%</th>\n",
              "      <td>0.000000</td>\n",
              "      <td>3.000000</td>\n",
              "      <td>1.000000</td>\n",
              "      <td>26.000000</td>\n",
              "      <td>0.000000</td>\n",
              "      <td>0.000000</td>\n",
              "      <td>14.454200</td>\n",
              "      <td>2.000000</td>\n",
              "    </tr>\n",
              "    <tr>\n",
              "      <th>75%</th>\n",
              "      <td>1.000000</td>\n",
              "      <td>3.000000</td>\n",
              "      <td>1.000000</td>\n",
              "      <td>36.500000</td>\n",
              "      <td>1.000000</td>\n",
              "      <td>0.000000</td>\n",
              "      <td>31.000000</td>\n",
              "      <td>2.000000</td>\n",
              "    </tr>\n",
              "    <tr>\n",
              "      <th>max</th>\n",
              "      <td>1.000000</td>\n",
              "      <td>3.000000</td>\n",
              "      <td>1.000000</td>\n",
              "      <td>80.000000</td>\n",
              "      <td>8.000000</td>\n",
              "      <td>6.000000</td>\n",
              "      <td>512.329200</td>\n",
              "      <td>2.000000</td>\n",
              "    </tr>\n",
              "  </tbody>\n",
              "</table>\n",
              "</div>"
            ],
            "text/plain": [
              "         Survived      Pclass         Sex  ...       Parch        Fare    Embarked\n",
              "count  889.000000  889.000000  889.000000  ...  889.000000  889.000000  889.000000\n",
              "mean     0.382452    2.311586    0.649044  ...    0.382452   32.096681    1.535433\n",
              "std      0.486260    0.834700    0.477538  ...    0.806761   49.697504    0.792088\n",
              "min      0.000000    1.000000    0.000000  ...    0.000000    0.000000    0.000000\n",
              "25%      0.000000    2.000000    0.000000  ...    0.000000    7.895800    1.000000\n",
              "50%      0.000000    3.000000    1.000000  ...    0.000000   14.454200    2.000000\n",
              "75%      1.000000    3.000000    1.000000  ...    0.000000   31.000000    2.000000\n",
              "max      1.000000    3.000000    1.000000  ...    6.000000  512.329200    2.000000\n",
              "\n",
              "[8 rows x 8 columns]"
            ]
          },
          "metadata": {
            "tags": []
          },
          "execution_count": 33
        }
      ]
    },
    {
      "cell_type": "code",
      "metadata": {
        "id": "MBCStVAuSK_D",
        "outputId": "76e53ba8-1841-48ad-a48f-a4473d349e88",
        "colab": {
          "base_uri": "https://localhost:8080/"
        }
      },
      "source": [
        "# compute the variance for each variable\n",
        "var = train.var()\n",
        "var1 = pd.DataFrame()\n",
        "var1['variance'] = var\n",
        "var1.sort_values(by='variance', ascending=False)\n",
        "# columns with higher variances are the non-categorical columns while categorical columns have lower variances"
      ],
      "execution_count": null,
      "outputs": [
        {
          "output_type": "execute_result",
          "data": {
            "text/html": [
              "<div>\n",
              "<style scoped>\n",
              "    .dataframe tbody tr th:only-of-type {\n",
              "        vertical-align: middle;\n",
              "    }\n",
              "\n",
              "    .dataframe tbody tr th {\n",
              "        vertical-align: top;\n",
              "    }\n",
              "\n",
              "    .dataframe thead th {\n",
              "        text-align: right;\n",
              "    }\n",
              "</style>\n",
              "<table border=\"1\" class=\"dataframe\">\n",
              "  <thead>\n",
              "    <tr style=\"text-align: right;\">\n",
              "      <th></th>\n",
              "      <th>variance</th>\n",
              "    </tr>\n",
              "  </thead>\n",
              "  <tbody>\n",
              "    <tr>\n",
              "      <th>Fare</th>\n",
              "      <td>2469.841935</td>\n",
              "    </tr>\n",
              "    <tr>\n",
              "      <th>Age</th>\n",
              "      <td>173.660141</td>\n",
              "    </tr>\n",
              "    <tr>\n",
              "      <th>SibSp</th>\n",
              "      <td>1.218164</td>\n",
              "    </tr>\n",
              "    <tr>\n",
              "      <th>Pclass</th>\n",
              "      <td>0.696724</td>\n",
              "    </tr>\n",
              "    <tr>\n",
              "      <th>Parch</th>\n",
              "      <td>0.650863</td>\n",
              "    </tr>\n",
              "    <tr>\n",
              "      <th>Embarked</th>\n",
              "      <td>0.627403</td>\n",
              "    </tr>\n",
              "    <tr>\n",
              "      <th>Survived</th>\n",
              "      <td>0.236448</td>\n",
              "    </tr>\n",
              "    <tr>\n",
              "      <th>Sex</th>\n",
              "      <td>0.228042</td>\n",
              "    </tr>\n",
              "  </tbody>\n",
              "</table>\n",
              "</div>"
            ],
            "text/plain": [
              "             variance\n",
              "Fare      2469.841935\n",
              "Age        173.660141\n",
              "SibSp        1.218164\n",
              "Pclass       0.696724\n",
              "Parch        0.650863\n",
              "Embarked     0.627403\n",
              "Survived     0.236448\n",
              "Sex          0.228042"
            ]
          },
          "metadata": {
            "tags": []
          },
          "execution_count": 34
        }
      ]
    },
    {
      "cell_type": "code",
      "metadata": {
        "id": "WHlpllgqSSj0",
        "outputId": "2fb55267-184c-4f11-ef69-04c474e46571",
        "colab": {
          "base_uri": "https://localhost:8080/"
        }
      },
      "source": [
        "# compute the skewness for each variable\n",
        "train.skew()\n",
        "\n",
        "# Pclass, Sex and point of embarkation are negatively skewed while the other fields are positively skewed."
      ],
      "execution_count": null,
      "outputs": [
        {
          "output_type": "execute_result",
          "data": {
            "text/plain": [
              "Survived    0.484568\n",
              "Pclass     -0.636998\n",
              "Sex        -0.625625\n",
              "Age         0.512581\n",
              "SibSp       3.691058\n",
              "Parch       2.745160\n",
              "Fare        4.801440\n",
              "Embarked   -1.261367\n",
              "dtype: float64"
            ]
          },
          "metadata": {
            "tags": []
          },
          "execution_count": 35
        }
      ]
    },
    {
      "cell_type": "markdown",
      "metadata": {
        "id": "LV2ttkDDTudb"
      },
      "source": [
        "## Bivariate Analysis"
      ]
    },
    {
      "cell_type": "markdown",
      "metadata": {
        "id": "aRc1L4YYTxz4"
      },
      "source": [
        "**Pairplot of continuous variables**"
      ]
    },
    {
      "cell_type": "code",
      "metadata": {
        "id": "-zD2qn5_SY_1",
        "outputId": "6dccb072-bb6b-404d-ef9c-b93067656cdd",
        "colab": {
          "base_uri": "https://localhost:8080/"
        }
      },
      "source": [
        "# pairplot of age and fare columns\n",
        "plt.scatter(train['Age'], train['Fare'])\n",
        "\n",
        "plt.xticks(rotation=45)\n",
        "plt.xlabel(\"Age\")\n",
        "plt.ylabel(\"Fare\")\n",
        "plt.title(\"Pairplot of Age and Fare\")"
      ],
      "execution_count": null,
      "outputs": [
        {
          "output_type": "execute_result",
          "data": {
            "text/plain": [
              "Text(0.5, 1.0, 'Pairplot of Age and Fare')"
            ]
          },
          "metadata": {
            "tags": []
          },
          "execution_count": 36
        },
        {
          "output_type": "display_data",
          "data": {
            "image/png": "[encoded data removed]",
            "text/plain": [
              "<Figure size 432x288 with 1 Axes>"
            ]
          },
          "metadata": {
            "tags": [],
            "needs_background": "light"
          }
        }
      ]
    },
    {
      "cell_type": "code",
      "metadata": {
        "id": "UuPyf93OTOpn",
        "outputId": "7d3d570c-72bd-40eb-a6e3-d085fa6f75a0",
        "colab": {
          "base_uri": "https://localhost:8080/"
        }
      },
      "source": [
        "# age distribution at the point of embarkation for the passengers\n",
        "plt.barh(train['Embarked'], train['Age'])\n",
        "plt.xlabel(\"Age\")\n",
        "plt.ylabel('Point of embarkation')\n",
        "plt.title('Age distribution of passengers at the emabarkation points')\n",
        "# most passengers embarked at point S"
      ],
      "execution_count": null,
      "outputs": [
        {
          "output_type": "execute_result",
          "data": {
            "text/plain": [
              "Text(0.5, 1.0, 'Age distribution of passengers at the emabarkation points')"
            ]
          },
          "metadata": {
            "tags": []
          },
          "execution_count": 37
        },
        {
          "output_type": "display_data",
          "data": {
            "image/png": "[encoded data removed]",
            "text/plain": [
              "<Figure size 432x288 with 1 Axes>"
            ]
          },
          "metadata": {
            "tags": [],
            "needs_background": "light"
          }
        }
      ]
    },
    {
      "cell_type": "code",
      "metadata": {
        "id": "2uqP-zK6Vcmc",
        "outputId": "693cb39d-5443-48b0-dc0d-2241c6a5bba2",
        "colab": {
          "base_uri": "https://localhost:8080/"
        }
      },
      "source": [
        "# fare paid for the embarkation points\n",
        "sns.barplot(train['Embarked'], train['Fare'])\n",
        "plt.xlabel(\"Fare\")\n",
        "plt.ylabel('Point of embarkation')\n",
        "plt.title('Fare charges at the embarkation points')\n",
        "\n",
        "# at point Q, passengers paid more fare compared to points C and S"
      ],
      "execution_count": null,
      "outputs": [
        {
          "output_type": "execute_result",
          "data": {
            "text/plain": [
              "Text(0.5, 1.0, 'Fare charges at the embarkation points')"
            ]
          },
          "metadata": {
            "tags": []
          },
          "execution_count": 38
        },
        {
          "output_type": "display_data",
          "data": {
            "image/png": "[encoded data removed]",
            "text/plain": [
              "<Figure size 432x288 with 1 Axes>"
            ]
          },
          "metadata": {
            "tags": [],
            "needs_background": "light"
          }
        }
      ]
    },
    {
      "cell_type": "code",
      "metadata": {
        "id": "-1-o4EGbWlVl",
        "outputId": "958a60a6-fba4-452c-eab4-bc800c422b52",
        "colab": {
          "base_uri": "https://localhost:8080/"
        }
      },
      "source": [
        "# fare paid per class\n",
        "sns.barplot(train['Pclass'], train['Fare'], color='green')\n",
        "plt.ylabel(\"Fare\")\n",
        "plt.xlabel('class')\n",
        "plt.title('Fare charges per Class')\n",
        "\n",
        "# passengers that took 1st Class paid more fare due to the services and luxury it came with"
      ],
      "execution_count": null,
      "outputs": [
        {
          "output_type": "execute_result",
          "data": {
            "text/plain": [
              "Text(0.5, 1.0, 'Fare charges per Class')"
            ]
          },
          "metadata": {
            "tags": []
          },
          "execution_count": 39
        },
        {
          "output_type": "display_data",
          "data": {
            "image/png": "[encoded data removed]",
            "text/plain": [
              "<Figure size 432x288 with 1 Axes>"
            ]
          },
          "metadata": {
            "tags": [],
            "needs_background": "light"
          }
        }
      ]
    },
    {
      "cell_type": "markdown",
      "metadata": {
        "id": "7XWOX-iSf1Ty"
      },
      "source": [
        ">- most passengers embarked at Southampton port followed by Cherbourg port and Queenstown port\n",
        "- passengers that took 1st Class paid more fare due to the services and luxury it came with than those in 2nd and 3rd class. Logically, it looks like the classification of \"Pclass\" is defined by the value of the passenger's fare.\n"
      ]
    },
    {
      "cell_type": "markdown",
      "metadata": {
        "id": "C71I_E28hNyG"
      },
      "source": [
        "**Correlation matrix**"
      ]
    },
    {
      "cell_type": "code",
      "metadata": {
        "id": "-JLGqGTIYwS1",
        "outputId": "c1fe11b4-07db-4ab2-fa4b-41907651b095",
        "colab": {
          "base_uri": "https://localhost:8080/"
        }
      },
      "source": [
        "# plot correlations of the variables \n",
        "plt.figure(figsize = (9,6))\n",
        "sns.heatmap(train.corr(), annot=True)"
      ],
      "execution_count": null,
      "outputs": [
        {
          "output_type": "execute_result",
          "data": {
            "text/plain": [
              "<matplotlib.axes._subplots.AxesSubplot at 0x7faa80461be0>"
            ]
          },
          "metadata": {
            "tags": []
          },
          "execution_count": 40
        },
        {
          "output_type": "display_data",
          "data": {
            "image/png": "[encoded data removed]",
            "text/plain": [
              "<Figure size 648x432 with 2 Axes>"
            ]
          },
          "metadata": {
            "tags": [],
            "needs_background": "light"
          }
        }
      ]
    },
    {
      "cell_type": "markdown",
      "metadata": {
        "id": "G1s1Vfu_huFn"
      },
      "source": [
        ">- There is a high negative correlation between survival rate of a passenger and their Sex(most males did not survive). There is also a slight correlation between survival and PClass a passenger was in and the amount of fare they paid. \n",
        "- There is a slight correlation between the PClass and Age, and a high correlation between PClass and Fare\n",
        "- There is a positive correlation between the number of siblings/spouses(SibSp) and Parch(number of parents/children) on board."
      ]
    },
    {
      "cell_type": "markdown",
      "metadata": {
        "id": "rFuvCY4-mRYh"
      },
      "source": [
        "## Multivariate Analysis"
      ]
    },
    {
      "cell_type": "markdown",
      "metadata": {
        "id": "OAQqpO-MmVfq"
      },
      "source": [
        "**Factor Analysis**"
      ]
    },
    {
      "cell_type": "markdown",
      "metadata": {
        "id": "rc0Ah7gGmX58"
      },
      "source": [
        ">Since we are predicting survival rate of passengers and crew on board, it is important to find out which variables played/ had a huge influence to survival of a passenger. We will investigate this using Factor Analysis method. "
      ]
    },
    {
      "cell_type": "code",
      "metadata": {
        "id": "OsSc_URkhchG",
        "outputId": "7dd5e818-8567-4702-c444-f5ea36a69ed9",
        "colab": {
          "base_uri": "https://localhost:8080/",
          "height": 204
        }
      },
      "source": [
        "# remove the Survival variable from the data\n",
        "df = train.drop('Survived', 1)\n",
        "df.head()"
      ],
      "execution_count": null,
      "outputs": [
        {
          "output_type": "execute_result",
          "data": {
            "text/html": [
              "<div>\n",
              "<style scoped>\n",
              "    .dataframe tbody tr th:only-of-type {\n",
              "        vertical-align: middle;\n",
              "    }\n",
              "\n",
              "    .dataframe tbody tr th {\n",
              "        vertical-align: top;\n",
              "    }\n",
              "\n",
              "    .dataframe thead th {\n",
              "        text-align: right;\n",
              "    }\n",
              "</style>\n",
              "<table border=\"1\" class=\"dataframe\">\n",
              "  <thead>\n",
              "    <tr style=\"text-align: right;\">\n",
              "      <th></th>\n",
              "      <th>Pclass</th>\n",
              "      <th>Sex</th>\n",
              "      <th>Age</th>\n",
              "      <th>SibSp</th>\n",
              "      <th>Parch</th>\n",
              "      <th>Fare</th>\n",
              "      <th>Embarked</th>\n",
              "    </tr>\n",
              "  </thead>\n",
              "  <tbody>\n",
              "    <tr>\n",
              "      <th>0</th>\n",
              "      <td>3</td>\n",
              "      <td>1</td>\n",
              "      <td>22.0</td>\n",
              "      <td>1</td>\n",
              "      <td>0</td>\n",
              "      <td>7.2500</td>\n",
              "      <td>2</td>\n",
              "    </tr>\n",
              "    <tr>\n",
              "      <th>1</th>\n",
              "      <td>1</td>\n",
              "      <td>0</td>\n",
              "      <td>38.0</td>\n",
              "      <td>1</td>\n",
              "      <td>0</td>\n",
              "      <td>71.2833</td>\n",
              "      <td>0</td>\n",
              "    </tr>\n",
              "    <tr>\n",
              "      <th>2</th>\n",
              "      <td>3</td>\n",
              "      <td>0</td>\n",
              "      <td>26.0</td>\n",
              "      <td>0</td>\n",
              "      <td>0</td>\n",
              "      <td>7.9250</td>\n",
              "      <td>2</td>\n",
              "    </tr>\n",
              "    <tr>\n",
              "      <th>3</th>\n",
              "      <td>1</td>\n",
              "      <td>0</td>\n",
              "      <td>35.0</td>\n",
              "      <td>1</td>\n",
              "      <td>0</td>\n",
              "      <td>53.1000</td>\n",
              "      <td>2</td>\n",
              "    </tr>\n",
              "    <tr>\n",
              "      <th>4</th>\n",
              "      <td>3</td>\n",
              "      <td>1</td>\n",
              "      <td>35.0</td>\n",
              "      <td>0</td>\n",
              "      <td>0</td>\n",
              "      <td>8.0500</td>\n",
              "      <td>2</td>\n",
              "    </tr>\n",
              "  </tbody>\n",
              "</table>\n",
              "</div>"
            ],
            "text/plain": [
              "   Pclass  Sex   Age  SibSp  Parch     Fare  Embarked\n",
              "0       3    1  22.0      1      0   7.2500         2\n",
              "1       1    0  38.0      1      0  71.2833         0\n",
              "2       3    0  26.0      0      0   7.9250         2\n",
              "3       1    0  35.0      1      0  53.1000         2\n",
              "4       3    1  35.0      0      0   8.0500         2"
            ]
          },
          "metadata": {
            "tags": []
          },
          "execution_count": 41
        }
      ]
    },
    {
      "cell_type": "code",
      "metadata": {
        "id": "N7jb8UVvjlXK",
        "outputId": "46bbcad9-3cd2-4e15-fbb6-2445742525f0",
        "colab": {
          "base_uri": "https://localhost:8080/",
          "height": 173
        }
      },
      "source": [
        "# Installing factor analyzer \n",
        "!pip install factor_analyzer==0.2.3\n",
        "from factor_analyzer.factor_analyzer import calculate_bartlett_sphericity\n",
        "chi_square_value,p_value=calculate_bartlett_sphericity(df)\n",
        "chi_square_value, p_value\n",
        "#The p value is 0 the observed matrix is not an identity matrix, hence we can continue to perform factor analysis on the data"
      ],
      "execution_count": null,
      "outputs": [
        {
          "output_type": "stream",
          "text": [
            "Requirement already satisfied: factor_analyzer==0.2.3 in /usr/local/lib/python3.6/dist-packages (0.2.3)\n",
            "Requirement already satisfied: scipy in /usr/local/lib/python3.6/dist-packages (from factor_analyzer==0.2.3) (1.4.1)\n",
            "Requirement already satisfied: numpy in /usr/local/lib/python3.6/dist-packages (from factor_analyzer==0.2.3) (1.18.5)\n",
            "Requirement already satisfied: pandas in /usr/local/lib/python3.6/dist-packages (from factor_analyzer==0.2.3) (1.1.2)\n",
            "Requirement already satisfied: python-dateutil>=2.7.3 in /usr/local/lib/python3.6/dist-packages (from pandas->factor_analyzer==0.2.3) (2.8.1)\n",
            "Requirement already satisfied: pytz>=2017.2 in /usr/local/lib/python3.6/dist-packages (from pandas->factor_analyzer==0.2.3) (2018.9)\n",
            "Requirement already satisfied: six>=1.5 in /usr/local/lib/python3.6/dist-packages (from python-dateutil>=2.7.3->pandas->factor_analyzer==0.2.3) (1.15.0)\n"
          ],
          "name": "stdout"
        },
        {
          "output_type": "execute_result",
          "data": {
            "text/plain": [
              "(950.8152356162532, 4.072458101704506e-188)"
            ]
          },
          "metadata": {
            "tags": []
          },
          "execution_count": 42
        }
      ]
    },
    {
      "cell_type": "code",
      "metadata": {
        "id": "-Lp9d94ujpPn",
        "outputId": "da73b870-f510-4653-e803-48f44194c0f4",
        "colab": {
          "base_uri": "https://localhost:8080/",
          "height": 266
        }
      },
      "source": [
        "# Creating factor analysis object and perform factor analysis \n",
        "from factor_analyzer import FactorAnalyzer\n",
        "fa = FactorAnalyzer()\n",
        "fa.analyze(df,7, rotation=None)\n",
        "\n",
        "# Checking the Eigenvalues\n",
        "ev, v = fa.get_eigenvalues()\n",
        "ev\n",
        "# Here, we can see only for 3 eigenvalues(factors) are greater than one. \n",
        "# It means we need to choose only 3 factors (or unobserved variables)."
      ],
      "execution_count": null,
      "outputs": [
        {
          "output_type": "execute_result",
          "data": {
            "text/html": [
              "<div>\n",
              "<style scoped>\n",
              "    .dataframe tbody tr th:only-of-type {\n",
              "        vertical-align: middle;\n",
              "    }\n",
              "\n",
              "    .dataframe tbody tr th {\n",
              "        vertical-align: top;\n",
              "    }\n",
              "\n",
              "    .dataframe thead th {\n",
              "        text-align: right;\n",
              "    }\n",
              "</style>\n",
              "<table border=\"1\" class=\"dataframe\">\n",
              "  <thead>\n",
              "    <tr style=\"text-align: right;\">\n",
              "      <th></th>\n",
              "      <th>Original_Eigenvalues</th>\n",
              "    </tr>\n",
              "  </thead>\n",
              "  <tbody>\n",
              "    <tr>\n",
              "      <th>0</th>\n",
              "      <td>1.873908</td>\n",
              "    </tr>\n",
              "    <tr>\n",
              "      <th>1</th>\n",
              "      <td>1.740173</td>\n",
              "    </tr>\n",
              "    <tr>\n",
              "      <th>2</th>\n",
              "      <td>1.007596</td>\n",
              "    </tr>\n",
              "    <tr>\n",
              "      <th>3</th>\n",
              "      <td>0.840526</td>\n",
              "    </tr>\n",
              "    <tr>\n",
              "      <th>4</th>\n",
              "      <td>0.628220</td>\n",
              "    </tr>\n",
              "    <tr>\n",
              "      <th>5</th>\n",
              "      <td>0.554941</td>\n",
              "    </tr>\n",
              "    <tr>\n",
              "      <th>6</th>\n",
              "      <td>0.354636</td>\n",
              "    </tr>\n",
              "  </tbody>\n",
              "</table>\n",
              "</div>"
            ],
            "text/plain": [
              "   Original_Eigenvalues\n",
              "0              1.873908\n",
              "1              1.740173\n",
              "2              1.007596\n",
              "3              0.840526\n",
              "4              0.628220\n",
              "5              0.554941\n",
              "6              0.354636"
            ]
          },
          "metadata": {
            "tags": []
          },
          "execution_count": 43
        }
      ]
    },
    {
      "cell_type": "code",
      "metadata": {
        "id": "n3f5R6GWju96",
        "outputId": "588f9fa9-7099-4dbf-f0f7-c176d9a26a5d",
        "colab": {
          "base_uri": "https://localhost:8080/",
          "height": 266
        }
      },
      "source": [
        "\n",
        "fa = FactorAnalyzer()\n",
        "fa.analyze(df, 3, rotation=\"varimax\")\n",
        "\n",
        "# check the factor loadings\n",
        "fa.loadings\n",
        "\n",
        "# Factor 1 has high factor loadings for PClass, Fare(socio-economic status)\n",
        "# Factor 2 has high factor loadings for SibSp, Parch(family members on board)\n",
        "# Factor 3 has high factor loadings for Embarked(point of embarkation)"
      ],
      "execution_count": null,
      "outputs": [
        {
          "output_type": "execute_result",
          "data": {
            "text/html": [
              "<div>\n",
              "<style scoped>\n",
              "    .dataframe tbody tr th:only-of-type {\n",
              "        vertical-align: middle;\n",
              "    }\n",
              "\n",
              "    .dataframe tbody tr th {\n",
              "        vertical-align: top;\n",
              "    }\n",
              "\n",
              "    .dataframe thead th {\n",
              "        text-align: right;\n",
              "    }\n",
              "</style>\n",
              "<table border=\"1\" class=\"dataframe\">\n",
              "  <thead>\n",
              "    <tr style=\"text-align: right;\">\n",
              "      <th></th>\n",
              "      <th>Factor1</th>\n",
              "      <th>Factor2</th>\n",
              "      <th>Factor3</th>\n",
              "    </tr>\n",
              "  </thead>\n",
              "  <tbody>\n",
              "    <tr>\n",
              "      <th>Pclass</th>\n",
              "      <td>0.972271</td>\n",
              "      <td>-0.018671</td>\n",
              "      <td>0.103797</td>\n",
              "    </tr>\n",
              "    <tr>\n",
              "      <th>Sex</th>\n",
              "      <td>0.095681</td>\n",
              "      <td>-0.313602</td>\n",
              "      <td>0.137100</td>\n",
              "    </tr>\n",
              "    <tr>\n",
              "      <th>Age</th>\n",
              "      <td>-0.424427</td>\n",
              "      <td>-0.298139</td>\n",
              "      <td>0.033485</td>\n",
              "    </tr>\n",
              "    <tr>\n",
              "      <th>SibSp</th>\n",
              "      <td>0.095063</td>\n",
              "      <td>0.595181</td>\n",
              "      <td>0.068996</td>\n",
              "    </tr>\n",
              "    <tr>\n",
              "      <th>Parch</th>\n",
              "      <td>0.012144</td>\n",
              "      <td>0.686528</td>\n",
              "      <td>0.037537</td>\n",
              "    </tr>\n",
              "    <tr>\n",
              "      <th>Fare</th>\n",
              "      <td>-0.532093</td>\n",
              "      <td>0.350843</td>\n",
              "      <td>-0.228603</td>\n",
              "    </tr>\n",
              "    <tr>\n",
              "      <th>Embarked</th>\n",
              "      <td>0.088334</td>\n",
              "      <td>0.013026</td>\n",
              "      <td>0.789148</td>\n",
              "    </tr>\n",
              "  </tbody>\n",
              "</table>\n",
              "</div>"
            ],
            "text/plain": [
              "           Factor1   Factor2   Factor3\n",
              "Pclass    0.972271 -0.018671  0.103797\n",
              "Sex       0.095681 -0.313602  0.137100\n",
              "Age      -0.424427 -0.298139  0.033485\n",
              "SibSp     0.095063  0.595181  0.068996\n",
              "Parch     0.012144  0.686528  0.037537\n",
              "Fare     -0.532093  0.350843 -0.228603\n",
              "Embarked  0.088334  0.013026  0.789148"
            ]
          },
          "metadata": {
            "tags": []
          },
          "execution_count": 44
        }
      ]
    },
    {
      "cell_type": "code",
      "metadata": {
        "id": "nIHS43K-j8NZ",
        "outputId": "553765e6-6b08-463e-b942-721aba9d4090",
        "colab": {
          "base_uri": "https://localhost:8080/",
          "height": 142
        }
      },
      "source": [
        "# Getting variance of each factors\n",
        "\n",
        "fa.get_factor_variance()\n",
        "\n",
        "# Noting total 46.9% cumulative Variance explained by the 3 factors.\n",
        "# We conclude that the we have found 3 factors that contributed highly to the survival rate of a passenger on board"
      ],
      "execution_count": null,
      "outputs": [
        {
          "output_type": "execute_result",
          "data": {
            "text/html": [
              "<div>\n",
              "<style scoped>\n",
              "    .dataframe tbody tr th:only-of-type {\n",
              "        vertical-align: middle;\n",
              "    }\n",
              "\n",
              "    .dataframe tbody tr th {\n",
              "        vertical-align: top;\n",
              "    }\n",
              "\n",
              "    .dataframe thead th {\n",
              "        text-align: right;\n",
              "    }\n",
              "</style>\n",
              "<table border=\"1\" class=\"dataframe\">\n",
              "  <thead>\n",
              "    <tr style=\"text-align: right;\">\n",
              "      <th></th>\n",
              "      <th>Factor1</th>\n",
              "      <th>Factor2</th>\n",
              "      <th>Factor3</th>\n",
              "    </tr>\n",
              "  </thead>\n",
              "  <tbody>\n",
              "    <tr>\n",
              "      <th>SS Loadings</th>\n",
              "      <td>1.434714</td>\n",
              "      <td>1.136403</td>\n",
              "      <td>0.711875</td>\n",
              "    </tr>\n",
              "    <tr>\n",
              "      <th>Proportion Var</th>\n",
              "      <td>0.204959</td>\n",
              "      <td>0.162343</td>\n",
              "      <td>0.101696</td>\n",
              "    </tr>\n",
              "    <tr>\n",
              "      <th>Cumulative Var</th>\n",
              "      <td>0.204959</td>\n",
              "      <td>0.367302</td>\n",
              "      <td>0.468999</td>\n",
              "    </tr>\n",
              "  </tbody>\n",
              "</table>\n",
              "</div>"
            ],
            "text/plain": [
              "                 Factor1   Factor2   Factor3\n",
              "SS Loadings     1.434714  1.136403  0.711875\n",
              "Proportion Var  0.204959  0.162343  0.101696\n",
              "Cumulative Var  0.204959  0.367302  0.468999"
            ]
          },
          "metadata": {
            "tags": []
          },
          "execution_count": 45
        }
      ]
    },
    {
      "cell_type": "markdown",
      "metadata": {
        "id": "HOJDYMu2naLk"
      },
      "source": [
        ">From the factor analysis, we have come up with 3 factors that contributed largely to the survival of a passenger:\n",
        "- **socio-economic status** of the passenger, defined by the amount of fare paid and the class that a passenger took\n",
        "-  **number of family members on board**. From previous statistics, it is noted that passengers who had other family members on board(siblings, spouse, parent, child) had a low survival rate than those who did not.\n",
        "- The **point which a passenger embarked** from also determined their survival rate. Historical statistics show that the highest rate of survival was from Cherbourg where over half of the passengers departing from this region survived the accident. Those whom called Queenstown their port of call had the second-highest survival rate while Southampton, U.K. came in last with a survival rate of only ⅓.\n",
        " "
      ]
    },
    {
      "cell_type": "markdown",
      "metadata": {
        "id": "Id-Do5xe8BTx"
      },
      "source": [
        "# Implementing the solution"
      ]
    },
    {
      "cell_type": "markdown",
      "metadata": {
        "id": "6PaDaAqbrCkM"
      },
      "source": [
        "# Modelling"
      ]
    },
    {
      "cell_type": "markdown",
      "metadata": {
        "id": "JbL9wd8-70I0"
      },
      "source": [
        "## KNN Classification"
      ]
    },
    {
      "cell_type": "code",
      "metadata": {
        "id": "ninEreUVq8ly"
      },
      "source": [
        "# Implementing the Solution\n",
        "\n",
        "# selecting features and labels\n",
        "X = train.drop('Survived', 1).values #features\n",
        "y = train['Survived'].values #labels\n",
        "\n",
        "# feature scaling\n",
        "X = StandardScaler().fit_transform(X)\n",
        "\n",
        "# splitting the train data further into train and test sets\n",
        "from sklearn.model_selection import train_test_split\n",
        "X_train, X_test, y_train, y_test = train_test_split(X, y, test_size = 0.2, random_state=0)\n"
      ],
      "execution_count": null,
      "outputs": []
    },
    {
      "cell_type": "code",
      "metadata": {
        "id": "jZ4aKp6z8UWd",
        "outputId": "94fc9217-ec8d-4380-8297-7ff7b26f1e4e",
        "colab": {
          "base_uri": "https://localhost:8080/",
          "height": 68
        }
      },
      "source": [
        "# modeling\n",
        "from sklearn.neighbors import KNeighborsClassifier\n",
        "classifier = KNeighborsClassifier(n_neighbors=5)\n",
        "\n",
        "# fitting the train sets onto the model\n",
        "classifier.fit(X_train, y_train)"
      ],
      "execution_count": null,
      "outputs": [
        {
          "output_type": "execute_result",
          "data": {
            "text/plain": [
              "KNeighborsClassifier(algorithm='auto', leaf_size=30, metric='minkowski',\n",
              "                     metric_params=None, n_jobs=None, n_neighbors=5, p=2,\n",
              "                     weights='uniform')"
            ]
          },
          "metadata": {
            "tags": []
          },
          "execution_count": 47
        }
      ]
    },
    {
      "cell_type": "code",
      "metadata": {
        "id": "a2zl9WSQ8eOj",
        "outputId": "89100f0d-a169-4666-f4f2-9f423a7a838e",
        "colab": {
          "base_uri": "https://localhost:8080/",
          "height": 221
        }
      },
      "source": [
        "# predicting using our built model\n",
        "y_pred = classifier.predict(X_test)\n",
        "\n",
        "# model performance and evaluation\n",
        "from sklearn.metrics import confusion_matrix, classification_report, accuracy_score\n",
        "\n",
        "print(accuracy_score(y_test, y_pred))\n",
        "print(confusion_matrix(y_test, y_pred))\n",
        "print(classification_report(y_test, y_pred))\n"
      ],
      "execution_count": null,
      "outputs": [
        {
          "output_type": "stream",
          "text": [
            "0.7134831460674157\n",
            "[[85 20]\n",
            " [31 42]]\n",
            "              precision    recall  f1-score   support\n",
            "\n",
            "           0       0.73      0.81      0.77       105\n",
            "           1       0.68      0.58      0.62        73\n",
            "\n",
            "    accuracy                           0.71       178\n",
            "   macro avg       0.71      0.69      0.70       178\n",
            "weighted avg       0.71      0.71      0.71       178\n",
            "\n"
          ],
          "name": "stdout"
        }
      ]
    },
    {
      "cell_type": "markdown",
      "metadata": {
        "id": "CG1ZX4GMfbPr"
      },
      "source": [
        ">The model has an accuracy of 71%, and with a few misclassification errors in the confusion matrix. \n",
        "\n",
        "We can try to improve our model by tuning our parameters to see the effect they have. "
      ]
    },
    {
      "cell_type": "markdown",
      "metadata": {
        "id": "smt6bRMIjZ0l"
      },
      "source": [
        "## Model Optimization and Improvement"
      ]
    },
    {
      "cell_type": "markdown",
      "metadata": {
        "id": "EjZNas7dsVel"
      },
      "source": [
        "**Improving the k-value**"
      ]
    },
    {
      "cell_type": "markdown",
      "metadata": {
        "id": "TeCcz2RBljtt"
      },
      "source": [
        ">find the optimal value of of K for the n_neighbors parameter. Using a for loop, I will fit train sets onto the KNN Classifier and predict using k values for range 1-20 and make predictions each time to find the minimum error using the predictions made, and make a plot of this error rate"
      ]
    },
    {
      "cell_type": "code",
      "metadata": {
        "id": "ZnrXKS2Yk0JW",
        "outputId": "5d7e14f6-b7c7-4a54-f2c7-3b5046d45f9e",
        "colab": {
          "base_uri": "https://localhost:8080/",
          "height": 421
        }
      },
      "source": [
        "# initialize an empty list that will contain error rate\n",
        "error_rate = []\n",
        "\n",
        "# for loop\n",
        "for i in range(1,20):\n",
        "  # define the model\n",
        " knn = KNeighborsClassifier(n_neighbors=i)\n",
        " knn.fit(X_train,y_train) #fit training data onto model\n",
        " pred_i = knn.predict(X_test) #make predictions\n",
        " error_rate.append(np.mean(pred_i != y_test)) #get the error rate for each value and append this value onto the empty list\n",
        "\n",
        "# make a line plot of the error rate at each k-value\n",
        "plt.figure(figsize=(10,6))\n",
        "plt.plot(range(1,20),error_rate,color='blue', linestyle='dashed', marker='o',markerfacecolor='red', markersize=10)\n",
        "# labeling the plot\n",
        "plt.title('Error Rate vs. K Value')\n",
        "plt.xlabel('K')\n",
        "plt.ylabel('Error Rate')\n",
        "\n",
        "# display the minimum error recorded and the value of k\n",
        "print(\"Minimum error:-\",min(error_rate),\"at K =\",error_rate.index(min(error_rate)))"
      ],
      "execution_count": null,
      "outputs": [
        {
          "output_type": "stream",
          "text": [
            "Minimum error:- 0.24719101123595505 at K = 15\n"
          ],
          "name": "stdout"
        },
        {
          "output_type": "display_data",
          "data": {
            "image/png": "[encoded data removed]",
            "text/plain": [
              "<Figure size 720x432 with 1 Axes>"
            ]
          },
          "metadata": {
            "tags": [],
            "needs_background": "light"
          }
        }
      ]
    },
    {
      "cell_type": "markdown",
      "metadata": {
        "id": "pwsJMGFbnsa1"
      },
      "source": [
        ">Minimum error rate is achieved at k=15. We can also find out at what k value does our model achieve the maximum accuracy. "
      ]
    },
    {
      "cell_type": "code",
      "metadata": {
        "id": "ZRmgSOzUlMg8",
        "outputId": "ba166c5c-e2c3-45b0-9ea2-dc1564349c2c",
        "colab": {
          "base_uri": "https://localhost:8080/",
          "height": 421
        }
      },
      "source": [
        "# initialize an empty list that will contain the accuracies\n",
        "acc = []\n",
        "\n",
        "# for loop to find the best accuracy score\n",
        "for i in range(1,20):\n",
        "    neigh = KNeighborsClassifier(n_neighbors = i).fit(X_train,y_train) #modeling and fitting training data onto the model \n",
        "    yhat = neigh.predict(X_test) #making predictions using the model we have created\n",
        "    acc.append(metrics.accuracy_score(y_test, yhat)) #performance metrics \n",
        "    \n",
        "plt.figure(figsize=(10,6))\n",
        "plt.plot(range(1,20),acc,color = 'blue',linestyle='dashed', \n",
        "         marker='o',markerfacecolor='red', markersize=10)\n",
        "plt.title('accuracy vs. K Value')\n",
        "plt.xlabel('K')\n",
        "plt.ylabel('Accuracy')\n",
        "print(\"Maximum accuracy:-\",max(acc),\"at K =\",acc.index(max(acc)))"
      ],
      "execution_count": null,
      "outputs": [
        {
          "output_type": "stream",
          "text": [
            "Maximum accuracy:- 0.7528089887640449 at K = 15\n"
          ],
          "name": "stdout"
        },
        {
          "output_type": "display_data",
          "data": {
            "image/png": "[encoded data removed]",
            "text/plain": [
              "<Figure size 720x432 with 1 Axes>"
            ]
          },
          "metadata": {
            "tags": [],
            "needs_background": "light"
          }
        }
      ]
    },
    {
      "cell_type": "markdown",
      "metadata": {
        "id": "3-0zIB5YpbLV"
      },
      "source": [
        ">From the above plots, highest accuracy and minimum error is achieved when k=15. This is the value we will use to improve our model. "
      ]
    },
    {
      "cell_type": "markdown",
      "metadata": {
        "id": "zHvxKlB_sdJU"
      },
      "source": [
        "**Scaling our features**"
      ]
    },
    {
      "cell_type": "markdown",
      "metadata": {
        "id": "w-QaNoDutXqG"
      },
      "source": [
        "The first model built had features scaled with Standard Scaler achieving an accuracy of 71%. We can try to scale features using the MinMaxScaler and the RobustScaler to see the changes in the model accuracy that occur. "
      ]
    },
    {
      "cell_type": "code",
      "metadata": {
        "id": "GmhTwth0pamn",
        "outputId": "3343bef5-9107-4416-b775-4a8578f149cd",
        "colab": {
          "base_uri": "https://localhost:8080/",
          "height": 221
        }
      },
      "source": [
        "# Implementing the Solution\n",
        "\n",
        "# selecting features and labels\n",
        "X = train.drop('Survived', 1).values #features\n",
        "y = train['Survived'].values #labels\n",
        "\n",
        "# feature scaling\n",
        "from sklearn.preprocessing import MinMaxScaler, RobustScaler\n",
        "X = MinMaxScaler().fit_transform(X)\n",
        "\n",
        "# splitting the train data further into train and test sets\n",
        "X_train, X_test, y_train, y_test = train_test_split(X, y, test_size = 0.2, random_state=0)\n",
        "\n",
        "# modeling\n",
        "classifier = KNeighborsClassifier(n_neighbors=5)\n",
        "\n",
        "# fitting the train sets onto the model\n",
        "classifier.fit(X_train, y_train)\n",
        "\n",
        "# predicting using our built model\n",
        "y_pred = classifier.predict(X_test)\n",
        "\n",
        "# model performance and evaluation\n",
        "\n",
        "print(accuracy_score(y_test, y_pred))\n",
        "print(confusion_matrix(y_test, y_pred))\n",
        "print(classification_report(y_test, y_pred))\n"
      ],
      "execution_count": null,
      "outputs": [
        {
          "output_type": "stream",
          "text": [
            "0.7191011235955056\n",
            "[[84 21]\n",
            " [29 44]]\n",
            "              precision    recall  f1-score   support\n",
            "\n",
            "           0       0.74      0.80      0.77       105\n",
            "           1       0.68      0.60      0.64        73\n",
            "\n",
            "    accuracy                           0.72       178\n",
            "   macro avg       0.71      0.70      0.70       178\n",
            "weighted avg       0.72      0.72      0.72       178\n",
            "\n"
          ],
          "name": "stdout"
        }
      ]
    },
    {
      "cell_type": "code",
      "metadata": {
        "id": "1sX8mSA-vNxh",
        "outputId": "4d36ad61-f26a-4f0e-b22e-5f8c002a4148",
        "colab": {
          "base_uri": "https://localhost:8080/",
          "height": 221
        }
      },
      "source": [
        "# Implementing the Solution\n",
        "\n",
        "# selecting features and labels\n",
        "X = train.drop('Survived', 1).values #features\n",
        "y = train['Survived'].values #labels\n",
        "\n",
        "# feature scaling\n",
        "from sklearn.preprocessing import MinMaxScaler, RobustScaler\n",
        "X = RobustScaler().fit_transform(X)\n",
        "\n",
        "# splitting the train data further into train and test sets\n",
        "X_train, X_test, y_train, y_test = train_test_split(X, y, test_size = 0.2, random_state=0)\n",
        "\n",
        "# modeling\n",
        "classifier = KNeighborsClassifier(n_neighbors=5)\n",
        "\n",
        "# fitting the train sets onto the model\n",
        "classifier.fit(X_train, y_train)\n",
        "\n",
        "# predicting using our built model\n",
        "y_pred = classifier.predict(X_test)\n",
        "\n",
        "# model performance and evaluation\n",
        "\n",
        "print(accuracy_score(y_test, y_pred))\n",
        "print(confusion_matrix(y_test, y_pred))\n",
        "print(classification_report(y_test, y_pred))\n"
      ],
      "execution_count": null,
      "outputs": [
        {
          "output_type": "stream",
          "text": [
            "0.702247191011236\n",
            "[[80 25]\n",
            " [28 45]]\n",
            "              precision    recall  f1-score   support\n",
            "\n",
            "           0       0.74      0.76      0.75       105\n",
            "           1       0.64      0.62      0.63        73\n",
            "\n",
            "    accuracy                           0.70       178\n",
            "   macro avg       0.69      0.69      0.69       178\n",
            "weighted avg       0.70      0.70      0.70       178\n",
            "\n"
          ],
          "name": "stdout"
        }
      ]
    },
    {
      "cell_type": "markdown",
      "metadata": {
        "id": "U-HzIoLIu7Mc"
      },
      "source": [
        ">the model's accuracy improves by 1% using the MinMaxScaler with k=5 while the model's accuracy drops by 1% using the RobustScaler with k =5. \n",
        "We will therefore use the MinMaxScaler to scale our features since we achieve better accuracy using it. "
      ]
    },
    {
      "cell_type": "markdown",
      "metadata": {
        "id": "Bu2LF69dweTv"
      },
      "source": [
        "**Weights**"
      ]
    },
    {
      "cell_type": "code",
      "metadata": {
        "id": "6Ck4fDTfvzGJ",
        "outputId": "fbe0e1be-0dda-4f51-abf0-16f88270d738",
        "colab": {
          "base_uri": "https://localhost:8080/",
          "height": 221
        }
      },
      "source": [
        "# Implementing the Solution\n",
        "\n",
        "# selecting features and labels\n",
        "X = train.drop('Survived', 1).values #features\n",
        "y = train['Survived'].values #labels\n",
        "\n",
        "# feature scaling\n",
        "X = MinMaxScaler().fit_transform(X)\n",
        "\n",
        "# splitting the train data further into train and test sets\n",
        "X_train, X_test, y_train, y_test = train_test_split(X, y, test_size = 0.2, random_state=0)\n",
        "\n",
        "# modeling\n",
        "classifier = KNeighborsClassifier(n_neighbors=5, weights='distance')\n",
        "\n",
        "# fitting the train sets onto the model\n",
        "classifier.fit(X_train, y_train)\n",
        "\n",
        "# predicting using our built model\n",
        "y_pred = classifier.predict(X_test)\n",
        "\n",
        "# model performance and evaluation\n",
        "\n",
        "print(accuracy_score(y_test, y_pred))\n",
        "print(confusion_matrix(y_test, y_pred))\n",
        "print(classification_report(y_test, y_pred))\n"
      ],
      "execution_count": null,
      "outputs": [
        {
          "output_type": "stream",
          "text": [
            "0.7247191011235955\n",
            "[[84 21]\n",
            " [28 45]]\n",
            "              precision    recall  f1-score   support\n",
            "\n",
            "           0       0.75      0.80      0.77       105\n",
            "           1       0.68      0.62      0.65        73\n",
            "\n",
            "    accuracy                           0.72       178\n",
            "   macro avg       0.72      0.71      0.71       178\n",
            "weighted avg       0.72      0.72      0.72       178\n",
            "\n"
          ],
          "name": "stdout"
        }
      ]
    },
    {
      "cell_type": "markdown",
      "metadata": {
        "id": "9D-0nxbRwwF4"
      },
      "source": [
        ">Adding the weights parameter(and defining it to **distance** ) to the classifier improves the model accuracy even further. \n",
        "\n",
        "We will use these parameters that we have found to achieve the best model."
      ]
    },
    {
      "cell_type": "markdown",
      "metadata": {
        "id": "jCJ9Bai_xNYh"
      },
      "source": [
        "## Remodelling using tuned parameters"
      ]
    },
    {
      "cell_type": "code",
      "metadata": {
        "id": "ROPAjnsR9BLv",
        "outputId": "fe7c8fff-c973-4814-ca74-241d14b48b91",
        "colab": {
          "base_uri": "https://localhost:8080/",
          "height": 221
        }
      },
      "source": [
        "\n",
        "# selecting features and labels\n",
        "X = train.drop('Survived', 1).values #features\n",
        "y = train['Survived'].values #labels\n",
        "\n",
        "# feature scaling using the best scaler\n",
        "X = MinMaxScaler().fit_transform(X)\n",
        "\n",
        "# splitting the train data further into train and test sets:ratio 80%train data-20%test data\n",
        "X_train, X_test, y_train, y_test = train_test_split(X, y, test_size = 0.2, random_state=0)\n",
        "\n",
        "# modeling using k=15, weights= distance, \n",
        "classifier = KNeighborsClassifier(n_neighbors=15, weights='distance')\n",
        "\n",
        "# fitting the train sets onto the model\n",
        "classifier.fit(X_train, y_train)\n",
        "\n",
        "# predicting using our built model\n",
        "y_pred = classifier.predict(X_test)\n",
        "\n",
        "# model performance and evaluation\n",
        "\n",
        "print(accuracy_score(y_test, y_pred))\n",
        "print(confusion_matrix(y_test, y_pred))\n",
        "print(classification_report(y_test, y_pred))\n"
      ],
      "execution_count": null,
      "outputs": [
        {
          "output_type": "stream",
          "text": [
            "0.7359550561797753\n",
            "[[89 16]\n",
            " [31 42]]\n",
            "              precision    recall  f1-score   support\n",
            "\n",
            "           0       0.74      0.85      0.79       105\n",
            "           1       0.72      0.58      0.64        73\n",
            "\n",
            "    accuracy                           0.74       178\n",
            "   macro avg       0.73      0.71      0.72       178\n",
            "weighted avg       0.73      0.74      0.73       178\n",
            "\n"
          ],
          "name": "stdout"
        }
      ]
    },
    {
      "cell_type": "markdown",
      "metadata": {
        "id": "PounGeUoxrIV"
      },
      "source": [
        ">so far, this is the best model we have achieved with an accuracy of 74%."
      ]
    },
    {
      "cell_type": "markdown",
      "metadata": {
        "id": "RUAxLApVytSu"
      },
      "source": [
        "**Increasing the size of test data. Splitting the datasets differently i.e. 70-30, 60-40, and noting the outcomes of the model.**\n",
        "\n",
        "\n"
      ]
    },
    {
      "cell_type": "markdown",
      "metadata": {
        "id": "Q1jNzUKizlgI"
      },
      "source": [
        "<font color='green'>*60-40*"
      ]
    },
    {
      "cell_type": "code",
      "metadata": {
        "id": "DBtWtYUAzbbq",
        "outputId": "c011acfe-b4c2-4dda-919b-4b7b9f7f1063",
        "colab": {
          "base_uri": "https://localhost:8080/",
          "height": 221
        }
      },
      "source": [
        "\n",
        "# selecting features and labels\n",
        "X = train.drop('Survived', 1).values #features\n",
        "y = train['Survived'].values #labels\n",
        "\n",
        "# feature scaling using the best scaler\n",
        "X = MinMaxScaler().fit_transform(X)\n",
        "\n",
        "# splitting the train data further(60-40)\n",
        "X_train, X_test, y_train, y_test = train_test_split(X, y, test_size = 0.4, random_state=0)\n",
        "\n",
        "# modeling using k=15, weights= distance, \n",
        "classifier = KNeighborsClassifier(n_neighbors=15, weights='distance')\n",
        "\n",
        "# fitting the train sets onto the model\n",
        "classifier.fit(X_train, y_train)\n",
        "\n",
        "# predicting using our built model\n",
        "y_pred = classifier.predict(X_test)\n",
        "\n",
        "# model performance and evaluation\n",
        "\n",
        "print(accuracy_score(y_test, y_pred))\n",
        "print(confusion_matrix(y_test, y_pred))\n",
        "print(classification_report(y_test, y_pred))\n"
      ],
      "execution_count": null,
      "outputs": [
        {
          "output_type": "stream",
          "text": [
            "0.7780898876404494\n",
            "[[186  30]\n",
            " [ 49  91]]\n",
            "              precision    recall  f1-score   support\n",
            "\n",
            "           0       0.79      0.86      0.82       216\n",
            "           1       0.75      0.65      0.70       140\n",
            "\n",
            "    accuracy                           0.78       356\n",
            "   macro avg       0.77      0.76      0.76       356\n",
            "weighted avg       0.78      0.78      0.77       356\n",
            "\n"
          ],
          "name": "stdout"
        }
      ]
    },
    {
      "cell_type": "markdown",
      "metadata": {
        "id": "VBZCuJL1zO-y"
      },
      "source": [
        "<font color='green'>*70-30*"
      ]
    },
    {
      "cell_type": "code",
      "metadata": {
        "id": "oG6lxp9RxbPU",
        "outputId": "763bec7c-0158-4f43-e272-f7453255735d",
        "colab": {
          "base_uri": "https://localhost:8080/",
          "height": 221
        }
      },
      "source": [
        "\n",
        "# selecting features and labels\n",
        "X = train.drop('Survived', 1).values #features\n",
        "y = train['Survived'].values #labels\n",
        "\n",
        "# feature scaling using the best scaler\n",
        "X = MinMaxScaler().fit_transform(X)\n",
        "\n",
        "# splitting the train data(70-30)\n",
        "X_train, X_test, y_train, y_test = train_test_split(X, y, test_size = 0.3, random_state=0)\n",
        "\n",
        "# modeling using k=15, weights= distance, \n",
        "classifier = KNeighborsClassifier(n_neighbors=15, weights='distance')\n",
        "\n",
        "# fitting the train sets onto the model\n",
        "classifier.fit(X_train, y_train)\n",
        "\n",
        "# predicting using our built model\n",
        "y_pred = classifier.predict(X_test)\n",
        "\n",
        "# model performance and evaluation\n",
        "\n",
        "print(accuracy_score(y_test, y_pred))\n",
        "print(confusion_matrix(y_test, y_pred))\n",
        "print(classification_report(y_test, y_pred))\n"
      ],
      "execution_count": null,
      "outputs": [
        {
          "output_type": "stream",
          "text": [
            "0.7790262172284644\n",
            "[[135  22]\n",
            " [ 37  73]]\n",
            "              precision    recall  f1-score   support\n",
            "\n",
            "           0       0.78      0.86      0.82       157\n",
            "           1       0.77      0.66      0.71       110\n",
            "\n",
            "    accuracy                           0.78       267\n",
            "   macro avg       0.78      0.76      0.77       267\n",
            "weighted avg       0.78      0.78      0.78       267\n",
            "\n"
          ],
          "name": "stdout"
        }
      ]
    },
    {
      "cell_type": "markdown",
      "metadata": {
        "id": "xOeR332Hz2Ov"
      },
      "source": [
        ">Increasing the partition of the test size improves the model significantly. Using ratio of 70:30 improves the model by 0.043%, while ratio 60:40 improves the model by 0.042%. **Ratio 70:30 achieves the best model accuracy** and this is what we will use since the **test set is more balanced** using this ratio. "
      ]
    },
    {
      "cell_type": "markdown",
      "metadata": {
        "id": "Biix0lx9DVPe"
      },
      "source": [
        "# Challenging the solution"
      ]
    },
    {
      "cell_type": "markdown",
      "metadata": {
        "id": "nL30mDzqDWLl"
      },
      "source": [
        "Our best model is achieved with k=15 and weighted voting metrics = 'distance'. However, these results should not hold the day. Other models can also be built to perform the same classification. Such models are like the SVM Classifier and decision trees. Model performance and evaluation can be checked to see which model performs best. \n",
        "\n",
        "Generally, this will be an iterative process that will be done until the best model is achieved."
      ]
    },
    {
      "cell_type": "markdown",
      "metadata": {
        "id": "iACZqQ5dEHD2"
      },
      "source": [
        "# Follow up questions"
      ]
    },
    {
      "cell_type": "markdown",
      "metadata": {
        "id": "geY4_AB2ELLB"
      },
      "source": [
        "## a). Did we have the right data?"
      ]
    },
    {
      "cell_type": "markdown",
      "metadata": {
        "id": "YPOf-rIbEOh7"
      },
      "source": [
        ">Yes, the data available was appropriate for the research question that was stated. "
      ]
    },
    {
      "cell_type": "markdown",
      "metadata": {
        "id": "-T7yjzM7ERyf"
      },
      "source": [
        "## b). Do we need other data to answer our question?"
      ]
    },
    {
      "cell_type": "markdown",
      "metadata": {
        "id": "bcKYfjJoEdRk"
      },
      "source": [
        ">It would be desirable to have more variables included from historical statistics that can help improve the predictive power of a model. "
      ]
    },
    {
      "cell_type": "markdown",
      "metadata": {
        "id": "62UxyfQ-Ed5D"
      },
      "source": [
        "## c). Did we have the right question?"
      ]
    },
    {
      "cell_type": "markdown",
      "metadata": {
        "id": "rZGu7ju_EV-A"
      },
      "source": [
        ">The research question was specific and appropriate and in line with our needs and the data available"
      ]
    },
    {
      "cell_type": "code",
      "metadata": {
        "id": "iqhBQLCyzr21"
      },
      "source": [
        ""
      ],
      "execution_count": null,
      "outputs": []
    }
  ]
}